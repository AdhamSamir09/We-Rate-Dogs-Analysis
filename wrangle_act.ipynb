{
 "cells": [
  {
   "cell_type": "markdown",
   "metadata": {
    "extensions": {
     "jupyter_dashboards": {
      "version": 1,
      "views": {
       "grid_default": {
        "col": 0,
        "height": 4,
        "hidden": false,
        "row": 0,
        "width": 4
       },
       "report_default": {
        "hidden": false
       }
      }
     }
    }
   },
   "source": [
    "# Project: Wrangling and Analyze Data"
   ]
  },
  {
   "cell_type": "markdown",
   "metadata": {},
   "source": [
    "## Import Libraries"
   ]
  },
  {
   "cell_type": "code",
   "execution_count": 1,
   "metadata": {},
   "outputs": [],
   "source": [
    "import pandas as pd\n",
    "import numpy as np\n",
    "import requests\n",
    "import matplotlib.pyplot as plt\n",
    "import tweepy\n",
    "import math\n",
    "import json\n",
    "from timeit import default_timer as timer\n",
    "from bs4 import BeautifulSoup"
   ]
  },
  {
   "cell_type": "markdown",
   "metadata": {},
   "source": [
    "## Data Gathering\n",
    "In the cell below, gather **all** three pieces of data for this project and load them in the notebook. **Note:** the methods required to gather each data are different.\n",
    "1. Directly download the WeRateDogs Twitter archive data (twitter_archive_enhanced.csv)"
   ]
  },
  {
   "cell_type": "code",
   "execution_count": 2,
   "metadata": {
    "extensions": {
     "jupyter_dashboards": {
      "version": 1,
      "views": {
       "grid_default": {
        "hidden": true
       },
       "report_default": {
        "hidden": true
       }
      }
     }
    }
   },
   "outputs": [],
   "source": [
    "#Downloaded the csv file and uploaded it to Jupyter\n",
    "twitter_archive = pd.read_csv(\"twitter-archive-enhanced.csv\")"
   ]
  },
  {
   "cell_type": "markdown",
   "metadata": {},
   "source": [
    "2. Use the Requests library to download the tweet image prediction (image_predictions.tsv)"
   ]
  },
  {
   "cell_type": "code",
   "execution_count": 3,
   "metadata": {},
   "outputs": [
    {
     "name": "stdout",
     "output_type": "stream",
     "text": [
      "File \"image_predictions.tsv\" downloaded\n"
     ]
    }
   ],
   "source": [
    "url = \"https://d17h27t6h515a5.cloudfront.net/topher/2017/August/599fd2ad_image-predictions/image-predictions.tsv\"\n",
    "response = requests.get(url)\n",
    "\n",
    "if response.status_code == 200:\n",
    "    with open(\"image_predictions.tsv\", \"wb\") as file:\n",
    "        file.write(response.content)\n",
    "    print('File \"image_predictions.tsv\" downloaded')\n",
    "else:\n",
    "    print('Downloading failed')\n",
    "\n",
    "image_predictions = pd.read_csv(\"image_predictions.tsv\", sep=\"\\t\")"
   ]
  },
  {
   "cell_type": "markdown",
   "metadata": {},
   "source": [
    "3. Use the Tweepy library to query additional data via the Twitter API (tweet_json.txt)"
   ]
  },
  {
   "cell_type": "code",
   "execution_count": null,
   "metadata": {},
   "outputs": [],
   "source": [
    "# Query Twitter API for each tweet in the Twitter archive and save JSON in a text file\n",
    "# These are hidden to comply with Twitter's API terms and conditions\n",
    "consumer_key = 'Hidden'\n",
    "consumer_secret = 'Hidden'\n",
    "access_token = 'Hidden'\n",
    "access_secret = 'Hidden'\n",
    "\n",
    "auth = tweepy.OAuthHandler(consumer_key, consumer_secret)\n",
    "auth.set_access_token(access_token, access_secret)\n",
    "\n",
    "api = tweepy.API(auth, wait_on_rate_limit=True)\n",
    "# NOTE TO STUDENT WITH MOBILE VERIFICATION ISSUES:\n",
    "# df_1 is a DataFrame with the twitter_archive_enhanced.csv file. You may have to\n",
    "# change line 17 to match the name of your DataFrame with twitter_archive_enhanced.csv\n",
    "# NOTE TO REVIEWER: this student had mobile verification issues so the following\n",
    "# Twitter API code was sent to this student from a Udacity instructor\n",
    "# Tweet IDs for which to gather additional data via Twitter's API\n",
    "tweet_ids = twitter_archive.tweet_id.values\n",
    "len(tweet_ids)\n",
    "\n",
    "# Query Twitter's API for JSON data for each tweet ID in the Twitter archive\n",
    "count = 0\n",
    "fails_dict = {}\n",
    "start = timer()\n",
    "# Save each tweet's returned JSON as a new line in a .txt file\n",
    "with open('tweet_json.txt', 'w') as outfile:\n",
    "    # This loop will likely take 20-30 minutes to run because of Twitter's rate limit\n",
    "    for tweet_id in tweet_ids:\n",
    "        count += 1\n",
    "        print(str(count) + \": \" + str(tweet_id))\n",
    "        try:\n",
    "            tweet = api.get_status(tweet_id, tweet_mode='extended')\n",
    "            print(\"Success\")\n",
    "            json.dump(tweet._json, outfile)\n",
    "            outfile.write('\\n')\n",
    "        except tweepy.TweepError as e:\n",
    "            print(\"Fail\")\n",
    "            fails_dict[tweet_id] = e\n",
    "            pass\n",
    "end = timer()\n",
    "print(end - start)\n",
    "print(fails_dict)"
   ]
  },
  {
   "cell_type": "code",
   "execution_count": 4,
   "metadata": {},
   "outputs": [
    {
     "name": "stdout",
     "output_type": "stream",
     "text": [
      "File \"tweet_json.txt\" downloaded\n"
     ]
    }
   ],
   "source": [
    "#This code is written by the student to download the tweet_json.txt programmatically\n",
    "response = requests.get(\"https://video.udacity-data.com/topher/2018/November/5be5fb7d_tweet-json/tweet-json.txt\")\n",
    "\n",
    "if response.status_code == 200:\n",
    "    with open(\"tweet_json.txt\", \"wb\") as file:\n",
    "        file.write(response.content)\n",
    "    print('File \"tweet_json.txt\" downloaded')\n",
    "else:\n",
    "    print('Downloading failed')\n",
    "    \n",
    "tweet_json = pd.read_json(\"tweet_json.txt\", lines = True)\n",
    "tweet_json.drop([\"contributors\", \"coordinates\", \"created_at\", \"display_text_range\",\n",
    "                 \"entities\", \"extended_entities\", \"geo\", \"id_str\", \"in_reply_to_screen_name\",\n",
    "                 \"in_reply_to_status_id_str\", \"in_reply_to_user_id_str\",\n",
    "                 \"is_quote_status\", \"lang\", \"place\", \"possibly_sensitive_appealable\",\n",
    "                 \"possibly_sensitive\", \"quoted_status_id\", \"quoted_status_id_str\", \"retweeted\",\n",
    "                 \"truncated\", \"user\", \"source\", \"favorited\", \"full_text\"], inplace = True, axis = 1)\n"
   ]
  },
  {
   "cell_type": "markdown",
   "metadata": {
    "extensions": {
     "jupyter_dashboards": {
      "version": 1,
      "views": {
       "grid_default": {
        "col": 4,
        "height": 4,
        "hidden": false,
        "row": 28,
        "width": 4
       },
       "report_default": {
        "hidden": false
       }
      }
     }
    }
   },
   "source": [
    "## Assessing Data\n",
    "In this section, detect and document at least **eight (8) quality issues and two (2) tidiness issue**. You must use **both** visual assessment\n",
    "programmatic assessement to assess the data.\n",
    "\n",
    "**Note:** pay attention to the following key points when you access the data.\n",
    "\n",
    "* You only want original ratings (no retweets) that have images. Though there are 5000+ tweets in the dataset, not all are dog ratings and some are retweets.\n",
    "* Assessing and cleaning the entire dataset completely would require a lot of time, and is not necessary to practice and demonstrate your skills in data wrangling. Therefore, the requirements of this project are only to assess and clean at least 8 quality issues and at least 2 tidiness issues in this dataset.\n",
    "* The fact that the rating numerators are greater than the denominators does not need to be cleaned. This [unique rating system](http://knowyourmeme.com/memes/theyre-good-dogs-brent) is a big part of the popularity of WeRateDogs.\n",
    "* You do not need to gather the tweets beyond August 1st, 2017. You can, but note that you won't be able to gather the image predictions for these tweets since you don't have access to the algorithm used.\n",
    "\n"
   ]
  },
  {
   "cell_type": "code",
   "execution_count": 5,
   "metadata": {},
   "outputs": [
    {
     "data": {
      "text/html": [
       "<div>\n",
       "<style scoped>\n",
       "    .dataframe tbody tr th:only-of-type {\n",
       "        vertical-align: middle;\n",
       "    }\n",
       "\n",
       "    .dataframe tbody tr th {\n",
       "        vertical-align: top;\n",
       "    }\n",
       "\n",
       "    .dataframe thead th {\n",
       "        text-align: right;\n",
       "    }\n",
       "</style>\n",
       "<table border=\"1\" class=\"dataframe\">\n",
       "  <thead>\n",
       "    <tr style=\"text-align: right;\">\n",
       "      <th></th>\n",
       "      <th>tweet_id</th>\n",
       "      <th>in_reply_to_status_id</th>\n",
       "      <th>in_reply_to_user_id</th>\n",
       "      <th>timestamp</th>\n",
       "      <th>source</th>\n",
       "      <th>text</th>\n",
       "      <th>retweeted_status_id</th>\n",
       "      <th>retweeted_status_user_id</th>\n",
       "      <th>retweeted_status_timestamp</th>\n",
       "      <th>expanded_urls</th>\n",
       "      <th>rating_numerator</th>\n",
       "      <th>rating_denominator</th>\n",
       "      <th>name</th>\n",
       "      <th>doggo</th>\n",
       "      <th>floofer</th>\n",
       "      <th>pupper</th>\n",
       "      <th>puppo</th>\n",
       "    </tr>\n",
       "  </thead>\n",
       "  <tbody>\n",
       "    <tr>\n",
       "      <th>0</th>\n",
       "      <td>892420643555336193</td>\n",
       "      <td>NaN</td>\n",
       "      <td>NaN</td>\n",
       "      <td>2017-08-01 16:23:56 +0000</td>\n",
       "      <td>&lt;a href=\"http://twitter.com/download/iphone\" r...</td>\n",
       "      <td>This is Phineas. He's a mystical boy. Only eve...</td>\n",
       "      <td>NaN</td>\n",
       "      <td>NaN</td>\n",
       "      <td>NaN</td>\n",
       "      <td>https://twitter.com/dog_rates/status/892420643...</td>\n",
       "      <td>13</td>\n",
       "      <td>10</td>\n",
       "      <td>Phineas</td>\n",
       "      <td>NaN</td>\n",
       "      <td>NaN</td>\n",
       "      <td>NaN</td>\n",
       "      <td>NaN</td>\n",
       "    </tr>\n",
       "    <tr>\n",
       "      <th>1</th>\n",
       "      <td>892177421306343426</td>\n",
       "      <td>NaN</td>\n",
       "      <td>NaN</td>\n",
       "      <td>2017-08-01 00:17:27 +0000</td>\n",
       "      <td>&lt;a href=\"http://twitter.com/download/iphone\" r...</td>\n",
       "      <td>This is Tilly. She's just checking pup on you....</td>\n",
       "      <td>NaN</td>\n",
       "      <td>NaN</td>\n",
       "      <td>NaN</td>\n",
       "      <td>https://twitter.com/dog_rates/status/892177421...</td>\n",
       "      <td>13</td>\n",
       "      <td>10</td>\n",
       "      <td>Tilly</td>\n",
       "      <td>NaN</td>\n",
       "      <td>NaN</td>\n",
       "      <td>NaN</td>\n",
       "      <td>NaN</td>\n",
       "    </tr>\n",
       "    <tr>\n",
       "      <th>2</th>\n",
       "      <td>891815181378084864</td>\n",
       "      <td>NaN</td>\n",
       "      <td>NaN</td>\n",
       "      <td>2017-07-31 00:18:03 +0000</td>\n",
       "      <td>&lt;a href=\"http://twitter.com/download/iphone\" r...</td>\n",
       "      <td>This is Archie. He is a rare Norwegian Pouncin...</td>\n",
       "      <td>NaN</td>\n",
       "      <td>NaN</td>\n",
       "      <td>NaN</td>\n",
       "      <td>https://twitter.com/dog_rates/status/891815181...</td>\n",
       "      <td>12</td>\n",
       "      <td>10</td>\n",
       "      <td>Archie</td>\n",
       "      <td>NaN</td>\n",
       "      <td>NaN</td>\n",
       "      <td>NaN</td>\n",
       "      <td>NaN</td>\n",
       "    </tr>\n",
       "    <tr>\n",
       "      <th>3</th>\n",
       "      <td>891689557279858688</td>\n",
       "      <td>NaN</td>\n",
       "      <td>NaN</td>\n",
       "      <td>2017-07-30 15:58:51 +0000</td>\n",
       "      <td>&lt;a href=\"http://twitter.com/download/iphone\" r...</td>\n",
       "      <td>This is Darla. She commenced a snooze mid meal...</td>\n",
       "      <td>NaN</td>\n",
       "      <td>NaN</td>\n",
       "      <td>NaN</td>\n",
       "      <td>https://twitter.com/dog_rates/status/891689557...</td>\n",
       "      <td>13</td>\n",
       "      <td>10</td>\n",
       "      <td>Darla</td>\n",
       "      <td>NaN</td>\n",
       "      <td>NaN</td>\n",
       "      <td>NaN</td>\n",
       "      <td>NaN</td>\n",
       "    </tr>\n",
       "    <tr>\n",
       "      <th>4</th>\n",
       "      <td>891327558926688256</td>\n",
       "      <td>NaN</td>\n",
       "      <td>NaN</td>\n",
       "      <td>2017-07-29 16:00:24 +0000</td>\n",
       "      <td>&lt;a href=\"http://twitter.com/download/iphone\" r...</td>\n",
       "      <td>This is Franklin. He would like you to stop ca...</td>\n",
       "      <td>NaN</td>\n",
       "      <td>NaN</td>\n",
       "      <td>NaN</td>\n",
       "      <td>https://twitter.com/dog_rates/status/891327558...</td>\n",
       "      <td>12</td>\n",
       "      <td>10</td>\n",
       "      <td>Franklin</td>\n",
       "      <td>NaN</td>\n",
       "      <td>NaN</td>\n",
       "      <td>NaN</td>\n",
       "      <td>NaN</td>\n",
       "    </tr>\n",
       "  </tbody>\n",
       "</table>\n",
       "</div>"
      ],
      "text/plain": [
       "             tweet_id  in_reply_to_status_id  in_reply_to_user_id  \\\n",
       "0  892420643555336193                    NaN                  NaN   \n",
       "1  892177421306343426                    NaN                  NaN   \n",
       "2  891815181378084864                    NaN                  NaN   \n",
       "3  891689557279858688                    NaN                  NaN   \n",
       "4  891327558926688256                    NaN                  NaN   \n",
       "\n",
       "                   timestamp  \\\n",
       "0  2017-08-01 16:23:56 +0000   \n",
       "1  2017-08-01 00:17:27 +0000   \n",
       "2  2017-07-31 00:18:03 +0000   \n",
       "3  2017-07-30 15:58:51 +0000   \n",
       "4  2017-07-29 16:00:24 +0000   \n",
       "\n",
       "                                              source  \\\n",
       "0  <a href=\"http://twitter.com/download/iphone\" r...   \n",
       "1  <a href=\"http://twitter.com/download/iphone\" r...   \n",
       "2  <a href=\"http://twitter.com/download/iphone\" r...   \n",
       "3  <a href=\"http://twitter.com/download/iphone\" r...   \n",
       "4  <a href=\"http://twitter.com/download/iphone\" r...   \n",
       "\n",
       "                                                text  retweeted_status_id  \\\n",
       "0  This is Phineas. He's a mystical boy. Only eve...                  NaN   \n",
       "1  This is Tilly. She's just checking pup on you....                  NaN   \n",
       "2  This is Archie. He is a rare Norwegian Pouncin...                  NaN   \n",
       "3  This is Darla. She commenced a snooze mid meal...                  NaN   \n",
       "4  This is Franklin. He would like you to stop ca...                  NaN   \n",
       "\n",
       "   retweeted_status_user_id retweeted_status_timestamp  \\\n",
       "0                       NaN                        NaN   \n",
       "1                       NaN                        NaN   \n",
       "2                       NaN                        NaN   \n",
       "3                       NaN                        NaN   \n",
       "4                       NaN                        NaN   \n",
       "\n",
       "                                       expanded_urls  rating_numerator  \\\n",
       "0  https://twitter.com/dog_rates/status/892420643...                13   \n",
       "1  https://twitter.com/dog_rates/status/892177421...                13   \n",
       "2  https://twitter.com/dog_rates/status/891815181...                12   \n",
       "3  https://twitter.com/dog_rates/status/891689557...                13   \n",
       "4  https://twitter.com/dog_rates/status/891327558...                12   \n",
       "\n",
       "   rating_denominator      name doggo floofer pupper puppo  \n",
       "0                  10   Phineas   NaN     NaN    NaN   NaN  \n",
       "1                  10     Tilly   NaN     NaN    NaN   NaN  \n",
       "2                  10    Archie   NaN     NaN    NaN   NaN  \n",
       "3                  10     Darla   NaN     NaN    NaN   NaN  \n",
       "4                  10  Franklin   NaN     NaN    NaN   NaN  "
      ]
     },
     "execution_count": 5,
     "metadata": {},
     "output_type": "execute_result"
    }
   ],
   "source": [
    "#Overview of the twitter_archive DataFrame\n",
    "twitter_archive.head()"
   ]
  },
  {
   "cell_type": "code",
   "execution_count": 6,
   "metadata": {},
   "outputs": [
    {
     "data": {
      "text/html": [
       "<div>\n",
       "<style scoped>\n",
       "    .dataframe tbody tr th:only-of-type {\n",
       "        vertical-align: middle;\n",
       "    }\n",
       "\n",
       "    .dataframe tbody tr th {\n",
       "        vertical-align: top;\n",
       "    }\n",
       "\n",
       "    .dataframe thead th {\n",
       "        text-align: right;\n",
       "    }\n",
       "</style>\n",
       "<table border=\"1\" class=\"dataframe\">\n",
       "  <thead>\n",
       "    <tr style=\"text-align: right;\">\n",
       "      <th></th>\n",
       "      <th>tweet_id</th>\n",
       "      <th>jpg_url</th>\n",
       "      <th>img_num</th>\n",
       "      <th>p1</th>\n",
       "      <th>p1_conf</th>\n",
       "      <th>p1_dog</th>\n",
       "      <th>p2</th>\n",
       "      <th>p2_conf</th>\n",
       "      <th>p2_dog</th>\n",
       "      <th>p3</th>\n",
       "      <th>p3_conf</th>\n",
       "      <th>p3_dog</th>\n",
       "    </tr>\n",
       "  </thead>\n",
       "  <tbody>\n",
       "    <tr>\n",
       "      <th>0</th>\n",
       "      <td>666020888022790149</td>\n",
       "      <td>https://pbs.twimg.com/media/CT4udn0WwAA0aMy.jpg</td>\n",
       "      <td>1</td>\n",
       "      <td>Welsh_springer_spaniel</td>\n",
       "      <td>0.465074</td>\n",
       "      <td>True</td>\n",
       "      <td>collie</td>\n",
       "      <td>0.156665</td>\n",
       "      <td>True</td>\n",
       "      <td>Shetland_sheepdog</td>\n",
       "      <td>0.061428</td>\n",
       "      <td>True</td>\n",
       "    </tr>\n",
       "    <tr>\n",
       "      <th>1</th>\n",
       "      <td>666029285002620928</td>\n",
       "      <td>https://pbs.twimg.com/media/CT42GRgUYAA5iDo.jpg</td>\n",
       "      <td>1</td>\n",
       "      <td>redbone</td>\n",
       "      <td>0.506826</td>\n",
       "      <td>True</td>\n",
       "      <td>miniature_pinscher</td>\n",
       "      <td>0.074192</td>\n",
       "      <td>True</td>\n",
       "      <td>Rhodesian_ridgeback</td>\n",
       "      <td>0.072010</td>\n",
       "      <td>True</td>\n",
       "    </tr>\n",
       "    <tr>\n",
       "      <th>2</th>\n",
       "      <td>666033412701032449</td>\n",
       "      <td>https://pbs.twimg.com/media/CT4521TWwAEvMyu.jpg</td>\n",
       "      <td>1</td>\n",
       "      <td>German_shepherd</td>\n",
       "      <td>0.596461</td>\n",
       "      <td>True</td>\n",
       "      <td>malinois</td>\n",
       "      <td>0.138584</td>\n",
       "      <td>True</td>\n",
       "      <td>bloodhound</td>\n",
       "      <td>0.116197</td>\n",
       "      <td>True</td>\n",
       "    </tr>\n",
       "    <tr>\n",
       "      <th>3</th>\n",
       "      <td>666044226329800704</td>\n",
       "      <td>https://pbs.twimg.com/media/CT5Dr8HUEAA-lEu.jpg</td>\n",
       "      <td>1</td>\n",
       "      <td>Rhodesian_ridgeback</td>\n",
       "      <td>0.408143</td>\n",
       "      <td>True</td>\n",
       "      <td>redbone</td>\n",
       "      <td>0.360687</td>\n",
       "      <td>True</td>\n",
       "      <td>miniature_pinscher</td>\n",
       "      <td>0.222752</td>\n",
       "      <td>True</td>\n",
       "    </tr>\n",
       "    <tr>\n",
       "      <th>4</th>\n",
       "      <td>666049248165822465</td>\n",
       "      <td>https://pbs.twimg.com/media/CT5IQmsXIAAKY4A.jpg</td>\n",
       "      <td>1</td>\n",
       "      <td>miniature_pinscher</td>\n",
       "      <td>0.560311</td>\n",
       "      <td>True</td>\n",
       "      <td>Rottweiler</td>\n",
       "      <td>0.243682</td>\n",
       "      <td>True</td>\n",
       "      <td>Doberman</td>\n",
       "      <td>0.154629</td>\n",
       "      <td>True</td>\n",
       "    </tr>\n",
       "  </tbody>\n",
       "</table>\n",
       "</div>"
      ],
      "text/plain": [
       "             tweet_id                                          jpg_url  \\\n",
       "0  666020888022790149  https://pbs.twimg.com/media/CT4udn0WwAA0aMy.jpg   \n",
       "1  666029285002620928  https://pbs.twimg.com/media/CT42GRgUYAA5iDo.jpg   \n",
       "2  666033412701032449  https://pbs.twimg.com/media/CT4521TWwAEvMyu.jpg   \n",
       "3  666044226329800704  https://pbs.twimg.com/media/CT5Dr8HUEAA-lEu.jpg   \n",
       "4  666049248165822465  https://pbs.twimg.com/media/CT5IQmsXIAAKY4A.jpg   \n",
       "\n",
       "   img_num                      p1   p1_conf  p1_dog                  p2  \\\n",
       "0        1  Welsh_springer_spaniel  0.465074    True              collie   \n",
       "1        1                 redbone  0.506826    True  miniature_pinscher   \n",
       "2        1         German_shepherd  0.596461    True            malinois   \n",
       "3        1     Rhodesian_ridgeback  0.408143    True             redbone   \n",
       "4        1      miniature_pinscher  0.560311    True          Rottweiler   \n",
       "\n",
       "    p2_conf  p2_dog                   p3   p3_conf  p3_dog  \n",
       "0  0.156665    True    Shetland_sheepdog  0.061428    True  \n",
       "1  0.074192    True  Rhodesian_ridgeback  0.072010    True  \n",
       "2  0.138584    True           bloodhound  0.116197    True  \n",
       "3  0.360687    True   miniature_pinscher  0.222752    True  \n",
       "4  0.243682    True             Doberman  0.154629    True  "
      ]
     },
     "execution_count": 6,
     "metadata": {},
     "output_type": "execute_result"
    }
   ],
   "source": [
    "#Overview of the image_predictions DataFrame\n",
    "image_predictions.head()"
   ]
  },
  {
   "cell_type": "code",
   "execution_count": 7,
   "metadata": {},
   "outputs": [
    {
     "data": {
      "text/html": [
       "<div>\n",
       "<style scoped>\n",
       "    .dataframe tbody tr th:only-of-type {\n",
       "        vertical-align: middle;\n",
       "    }\n",
       "\n",
       "    .dataframe tbody tr th {\n",
       "        vertical-align: top;\n",
       "    }\n",
       "\n",
       "    .dataframe thead th {\n",
       "        text-align: right;\n",
       "    }\n",
       "</style>\n",
       "<table border=\"1\" class=\"dataframe\">\n",
       "  <thead>\n",
       "    <tr style=\"text-align: right;\">\n",
       "      <th></th>\n",
       "      <th>id</th>\n",
       "      <th>in_reply_to_status_id</th>\n",
       "      <th>in_reply_to_user_id</th>\n",
       "      <th>retweet_count</th>\n",
       "      <th>favorite_count</th>\n",
       "      <th>retweeted_status</th>\n",
       "      <th>quoted_status</th>\n",
       "    </tr>\n",
       "  </thead>\n",
       "  <tbody>\n",
       "    <tr>\n",
       "      <th>0</th>\n",
       "      <td>892420643555336193</td>\n",
       "      <td>NaN</td>\n",
       "      <td>NaN</td>\n",
       "      <td>8853</td>\n",
       "      <td>39467</td>\n",
       "      <td>NaN</td>\n",
       "      <td>NaN</td>\n",
       "    </tr>\n",
       "    <tr>\n",
       "      <th>1</th>\n",
       "      <td>892177421306343426</td>\n",
       "      <td>NaN</td>\n",
       "      <td>NaN</td>\n",
       "      <td>6514</td>\n",
       "      <td>33819</td>\n",
       "      <td>NaN</td>\n",
       "      <td>NaN</td>\n",
       "    </tr>\n",
       "    <tr>\n",
       "      <th>2</th>\n",
       "      <td>891815181378084864</td>\n",
       "      <td>NaN</td>\n",
       "      <td>NaN</td>\n",
       "      <td>4328</td>\n",
       "      <td>25461</td>\n",
       "      <td>NaN</td>\n",
       "      <td>NaN</td>\n",
       "    </tr>\n",
       "    <tr>\n",
       "      <th>3</th>\n",
       "      <td>891689557279858688</td>\n",
       "      <td>NaN</td>\n",
       "      <td>NaN</td>\n",
       "      <td>8964</td>\n",
       "      <td>42908</td>\n",
       "      <td>NaN</td>\n",
       "      <td>NaN</td>\n",
       "    </tr>\n",
       "    <tr>\n",
       "      <th>4</th>\n",
       "      <td>891327558926688256</td>\n",
       "      <td>NaN</td>\n",
       "      <td>NaN</td>\n",
       "      <td>9774</td>\n",
       "      <td>41048</td>\n",
       "      <td>NaN</td>\n",
       "      <td>NaN</td>\n",
       "    </tr>\n",
       "  </tbody>\n",
       "</table>\n",
       "</div>"
      ],
      "text/plain": [
       "                   id  in_reply_to_status_id  in_reply_to_user_id  \\\n",
       "0  892420643555336193                    NaN                  NaN   \n",
       "1  892177421306343426                    NaN                  NaN   \n",
       "2  891815181378084864                    NaN                  NaN   \n",
       "3  891689557279858688                    NaN                  NaN   \n",
       "4  891327558926688256                    NaN                  NaN   \n",
       "\n",
       "   retweet_count  favorite_count retweeted_status quoted_status  \n",
       "0           8853           39467              NaN           NaN  \n",
       "1           6514           33819              NaN           NaN  \n",
       "2           4328           25461              NaN           NaN  \n",
       "3           8964           42908              NaN           NaN  \n",
       "4           9774           41048              NaN           NaN  "
      ]
     },
     "execution_count": 7,
     "metadata": {},
     "output_type": "execute_result"
    }
   ],
   "source": [
    "#Overview of the tweet_json DataFrame\n",
    "tweet_json.head()"
   ]
  },
  {
   "cell_type": "code",
   "execution_count": 8,
   "metadata": {},
   "outputs": [],
   "source": [
    "#Due to there being \"None\" instead of the regular NaN in twitter_archive\n",
    "#We will replace them to make our assesment easier\n",
    "twitter_archive = twitter_archive.replace(\"None\", np.nan)"
   ]
  },
  {
   "cell_type": "code",
   "execution_count": 9,
   "metadata": {},
   "outputs": [
    {
     "name": "stdout",
     "output_type": "stream",
     "text": [
      "<class 'pandas.core.frame.DataFrame'>\n",
      "RangeIndex: 2356 entries, 0 to 2355\n",
      "Data columns (total 17 columns):\n",
      " #   Column                      Non-Null Count  Dtype  \n",
      "---  ------                      --------------  -----  \n",
      " 0   tweet_id                    2356 non-null   int64  \n",
      " 1   in_reply_to_status_id       78 non-null     float64\n",
      " 2   in_reply_to_user_id         78 non-null     float64\n",
      " 3   timestamp                   2356 non-null   object \n",
      " 4   source                      2356 non-null   object \n",
      " 5   text                        2356 non-null   object \n",
      " 6   retweeted_status_id         181 non-null    float64\n",
      " 7   retweeted_status_user_id    181 non-null    float64\n",
      " 8   retweeted_status_timestamp  181 non-null    object \n",
      " 9   expanded_urls               2297 non-null   object \n",
      " 10  rating_numerator            2356 non-null   int64  \n",
      " 11  rating_denominator          2356 non-null   int64  \n",
      " 12  name                        1611 non-null   object \n",
      " 13  doggo                       97 non-null     object \n",
      " 14  floofer                     10 non-null     object \n",
      " 15  pupper                      257 non-null    object \n",
      " 16  puppo                       30 non-null     object \n",
      "dtypes: float64(4), int64(3), object(10)\n",
      "memory usage: 313.0+ KB\n"
     ]
    }
   ],
   "source": [
    "twitter_archive.info()"
   ]
  },
  {
   "cell_type": "code",
   "execution_count": 10,
   "metadata": {},
   "outputs": [
    {
     "name": "stdout",
     "output_type": "stream",
     "text": [
      "<class 'pandas.core.frame.DataFrame'>\n",
      "RangeIndex: 2075 entries, 0 to 2074\n",
      "Data columns (total 12 columns):\n",
      " #   Column    Non-Null Count  Dtype  \n",
      "---  ------    --------------  -----  \n",
      " 0   tweet_id  2075 non-null   int64  \n",
      " 1   jpg_url   2075 non-null   object \n",
      " 2   img_num   2075 non-null   int64  \n",
      " 3   p1        2075 non-null   object \n",
      " 4   p1_conf   2075 non-null   float64\n",
      " 5   p1_dog    2075 non-null   bool   \n",
      " 6   p2        2075 non-null   object \n",
      " 7   p2_conf   2075 non-null   float64\n",
      " 8   p2_dog    2075 non-null   bool   \n",
      " 9   p3        2075 non-null   object \n",
      " 10  p3_conf   2075 non-null   float64\n",
      " 11  p3_dog    2075 non-null   bool   \n",
      "dtypes: bool(3), float64(3), int64(2), object(4)\n",
      "memory usage: 152.1+ KB\n"
     ]
    }
   ],
   "source": [
    "image_predictions.info()"
   ]
  },
  {
   "cell_type": "code",
   "execution_count": 11,
   "metadata": {
    "scrolled": true
   },
   "outputs": [
    {
     "name": "stdout",
     "output_type": "stream",
     "text": [
      "<class 'pandas.core.frame.DataFrame'>\n",
      "RangeIndex: 2354 entries, 0 to 2353\n",
      "Data columns (total 7 columns):\n",
      " #   Column                 Non-Null Count  Dtype  \n",
      "---  ------                 --------------  -----  \n",
      " 0   id                     2354 non-null   int64  \n",
      " 1   in_reply_to_status_id  78 non-null     float64\n",
      " 2   in_reply_to_user_id    78 non-null     float64\n",
      " 3   retweet_count          2354 non-null   int64  \n",
      " 4   favorite_count         2354 non-null   int64  \n",
      " 5   retweeted_status       179 non-null    object \n",
      " 6   quoted_status          28 non-null     object \n",
      "dtypes: float64(2), int64(3), object(2)\n",
      "memory usage: 128.9+ KB\n"
     ]
    }
   ],
   "source": [
    "tweet_json.info()"
   ]
  },
  {
   "cell_type": "code",
   "execution_count": 12,
   "metadata": {},
   "outputs": [
    {
     "data": {
      "text/plain": [
       "np.int64(0)"
      ]
     },
     "execution_count": 12,
     "metadata": {},
     "output_type": "execute_result"
    }
   ],
   "source": [
    "twitter_archive.duplicated().sum()"
   ]
  },
  {
   "cell_type": "code",
   "execution_count": 13,
   "metadata": {},
   "outputs": [
    {
     "data": {
      "text/plain": [
       "np.int64(0)"
      ]
     },
     "execution_count": 13,
     "metadata": {},
     "output_type": "execute_result"
    }
   ],
   "source": [
    "image_predictions.duplicated().sum()"
   ]
  },
  {
   "cell_type": "code",
   "execution_count": 14,
   "metadata": {},
   "outputs": [
    {
     "data": {
      "text/plain": [
       "tweet_id                         0\n",
       "in_reply_to_status_id         2278\n",
       "in_reply_to_user_id           2278\n",
       "timestamp                        0\n",
       "source                           0\n",
       "text                             0\n",
       "retweeted_status_id           2175\n",
       "retweeted_status_user_id      2175\n",
       "retweeted_status_timestamp    2175\n",
       "expanded_urls                   59\n",
       "rating_numerator                 0\n",
       "rating_denominator               0\n",
       "name                           745\n",
       "doggo                         2259\n",
       "floofer                       2346\n",
       "pupper                        2099\n",
       "puppo                         2326\n",
       "dtype: int64"
      ]
     },
     "execution_count": 14,
     "metadata": {},
     "output_type": "execute_result"
    }
   ],
   "source": [
    "twitter_archive.isnull().sum()"
   ]
  },
  {
   "cell_type": "code",
   "execution_count": 15,
   "metadata": {},
   "outputs": [
    {
     "data": {
      "text/plain": [
       "tweet_id    0\n",
       "jpg_url     0\n",
       "img_num     0\n",
       "p1          0\n",
       "p1_conf     0\n",
       "p1_dog      0\n",
       "p2          0\n",
       "p2_conf     0\n",
       "p2_dog      0\n",
       "p3          0\n",
       "p3_conf     0\n",
       "p3_dog      0\n",
       "dtype: int64"
      ]
     },
     "execution_count": 15,
     "metadata": {},
     "output_type": "execute_result"
    }
   ],
   "source": [
    "image_predictions.isnull().sum()"
   ]
  },
  {
   "cell_type": "code",
   "execution_count": 16,
   "metadata": {},
   "outputs": [
    {
     "data": {
      "text/plain": [
       "id                          0\n",
       "in_reply_to_status_id    2276\n",
       "in_reply_to_user_id      2276\n",
       "retweet_count               0\n",
       "favorite_count              0\n",
       "retweeted_status         2175\n",
       "quoted_status            2326\n",
       "dtype: int64"
      ]
     },
     "execution_count": 16,
     "metadata": {},
     "output_type": "execute_result"
    }
   ],
   "source": [
    "tweet_json.isnull().sum()"
   ]
  },
  {
   "cell_type": "code",
   "execution_count": 17,
   "metadata": {
    "scrolled": true
   },
   "outputs": [
    {
     "data": {
      "text/plain": [
       "dtype('O')"
      ]
     },
     "execution_count": 17,
     "metadata": {},
     "output_type": "execute_result"
    }
   ],
   "source": [
    "#O means object\n",
    "twitter_archive[\"timestamp\"].dtype"
   ]
  },
  {
   "cell_type": "code",
   "execution_count": 18,
   "metadata": {},
   "outputs": [
    {
     "name": "stdout",
     "output_type": "stream",
     "text": [
      "There are 2 deleted tweets\n"
     ]
    }
   ],
   "source": [
    "deleted_tweets_ids = twitter_archive.loc[~(twitter_archive[\"tweet_id\"].isin(tweet_json[\"id\"])), \"tweet_id\"]\n",
    "print(f\"There are {len(deleted_tweets_ids)} deleted tweets\")"
   ]
  },
  {
   "cell_type": "code",
   "execution_count": 19,
   "metadata": {},
   "outputs": [
    {
     "name": "stdout",
     "output_type": "stream",
     "text": [
      "There are 285 non original tweets\n"
     ]
    }
   ],
   "source": [
    "non_original_tweets_ids =  tweet_json.loc[\n",
    "        tweet_json[\"retweeted_status\"].notna() |\n",
    "        tweet_json[\"quoted_status\"].notna() |\n",
    "        tweet_json[\"in_reply_to_status_id\"].notna() |\n",
    "        tweet_json[\"in_reply_to_user_id\"].notna(), \"id\"]\n",
    "print(f\"There are {len(non_original_tweets_ids)} non original tweets\")"
   ]
  },
  {
   "cell_type": "code",
   "execution_count": 20,
   "metadata": {
    "scrolled": true
   },
   "outputs": [
    {
     "name": "stdout",
     "output_type": "stream",
     "text": [
      "There are 1976 missing_categories\n"
     ]
    }
   ],
   "source": [
    "missing_category_tweets_ids = twitter_archive.loc[twitter_archive[\"doggo\"].isna() &\n",
    "                   twitter_archive[\"floofer\"].isna() &\n",
    "                   twitter_archive[\"puppo\"].isna() &\n",
    "                   twitter_archive[\"pupper\"].isna(), \"tweet_id\"]\n",
    "\n",
    "print(f\"There are {len(missing_category_tweets_ids)} missing_categories\")"
   ]
  },
  {
   "cell_type": "code",
   "execution_count": 21,
   "metadata": {},
   "outputs": [
    {
     "name": "stdout",
     "output_type": "stream",
     "text": [
      "There are 324 non dog tweets\n"
     ]
    }
   ],
   "source": [
    "non_dog_tweets_ids = image_predictions.loc[(image_predictions[\"p1_dog\"] == False) \n",
    "                                                & (image_predictions[\"p2_dog\"] == False) \n",
    "                                                & (image_predictions[\"p3_dog\"] == False), \"tweet_id\"]\n",
    "print(f\"There are {len(non_dog_tweets_ids)} non dog tweets\")"
   ]
  },
  {
   "cell_type": "markdown",
   "metadata": {},
   "source": [
    "### Quality issues\n",
    "1. Timestamp is an object in twitter_archive\n",
    "\n",
    "2. 2 tweets in twitter_archive were deleted from twitter \n",
    "\n",
    "3. 285 non-original tweets are present in tweet_json\n",
    "\n",
    "4. Non dog images of tweets (for example: hen or turtle) in image_predictions\n",
    "\n",
    "5. dog breed names starting letter is a mix of uppercase and lowercase letters in (p1, p2, p3) of image_predictions \n",
    "\n",
    "6. <a.> tag in the source source of twitter_archive\n",
    "\n",
    "7. Most links at the end of text in twitter_archive are corrupt\n",
    "\n",
    "8. Missing category (doggo, pupper, puppo, floofer) in twitter_archive  \n",
    " "
   ]
  },
  {
   "cell_type": "markdown",
   "metadata": {
    "extensions": {
     "jupyter_dashboards": {
      "version": 1,
      "views": {
       "grid_default": {
        "col": 0,
        "height": 7,
        "hidden": false,
        "row": 40,
        "width": 12
       },
       "report_default": {
        "hidden": false
       }
      }
     }
    }
   },
   "source": [
    "### Tidiness issues\n",
    "1. There are 3 variables for 1 in twitter_archive (floofer, pupper, puppo) (doggo not in the list because it's present with those categories sometimes)\n",
    "\n",
    "2. The tweet_json and twitter_archive shouldn't be in seperate tables"
   ]
  },
  {
   "cell_type": "markdown",
   "metadata": {
    "extensions": {
     "jupyter_dashboards": {
      "version": 1,
      "views": {
       "grid_default": {
        "col": 4,
        "height": 4,
        "hidden": false,
        "row": 32,
        "width": 4
       },
       "report_default": {
        "hidden": false
       }
      }
     }
    }
   },
   "source": [
    "## Cleaning Data\n",
    "In this section, clean **all** of the issues you documented while assessing. "
   ]
  },
  {
   "cell_type": "code",
   "execution_count": 22,
   "metadata": {},
   "outputs": [],
   "source": [
    "# Make copies of original pieces of data\n",
    "twitter_archive_clean = twitter_archive.copy()\n",
    "image_predictions_clean = image_predictions.copy()\n",
    "tweet_json_clean = tweet_json.copy()"
   ]
  },
  {
   "cell_type": "code",
   "execution_count": 23,
   "metadata": {},
   "outputs": [
    {
     "name": "stdout",
     "output_type": "stream",
     "text": [
      "<class 'pandas.core.frame.DataFrame'>\n",
      "RangeIndex: 2356 entries, 0 to 2355\n",
      "Data columns (total 17 columns):\n",
      " #   Column                      Non-Null Count  Dtype  \n",
      "---  ------                      --------------  -----  \n",
      " 0   tweet_id                    2356 non-null   int64  \n",
      " 1   in_reply_to_status_id       78 non-null     float64\n",
      " 2   in_reply_to_user_id         78 non-null     float64\n",
      " 3   timestamp                   2356 non-null   object \n",
      " 4   source                      2356 non-null   object \n",
      " 5   text                        2356 non-null   object \n",
      " 6   retweeted_status_id         181 non-null    float64\n",
      " 7   retweeted_status_user_id    181 non-null    float64\n",
      " 8   retweeted_status_timestamp  181 non-null    object \n",
      " 9   expanded_urls               2297 non-null   object \n",
      " 10  rating_numerator            2356 non-null   int64  \n",
      " 11  rating_denominator          2356 non-null   int64  \n",
      " 12  name                        1611 non-null   object \n",
      " 13  doggo                       97 non-null     object \n",
      " 14  floofer                     10 non-null     object \n",
      " 15  pupper                      257 non-null    object \n",
      " 16  puppo                       30 non-null     object \n",
      "dtypes: float64(4), int64(3), object(10)\n",
      "memory usage: 313.0+ KB\n"
     ]
    }
   ],
   "source": [
    "twitter_archive_clean.info()"
   ]
  },
  {
   "cell_type": "markdown",
   "metadata": {},
   "source": [
    "### Issue #1: Timestamp is an object in twitter_archive"
   ]
  },
  {
   "cell_type": "markdown",
   "metadata": {},
   "source": [
    "#### Define: Change it to a datetime type with to_datetime()"
   ]
  },
  {
   "cell_type": "markdown",
   "metadata": {},
   "source": [
    "#### Code"
   ]
  },
  {
   "cell_type": "code",
   "execution_count": 24,
   "metadata": {},
   "outputs": [],
   "source": [
    "twitter_archive_clean[\"timestamp\"] = pd.to_datetime(twitter_archive_clean[\"timestamp\"])"
   ]
  },
  {
   "cell_type": "markdown",
   "metadata": {},
   "source": [
    "#### Test"
   ]
  },
  {
   "cell_type": "code",
   "execution_count": 25,
   "metadata": {},
   "outputs": [
    {
     "data": {
      "text/plain": [
       "datetime64[ns, UTC]"
      ]
     },
     "execution_count": 25,
     "metadata": {},
     "output_type": "execute_result"
    }
   ],
   "source": [
    "#<M8[ns] means datetime64[ns]\n",
    "twitter_archive_clean[\"timestamp\"].dtype"
   ]
  },
  {
   "cell_type": "code",
   "execution_count": 26,
   "metadata": {},
   "outputs": [
    {
     "name": "stdout",
     "output_type": "stream",
     "text": [
      "<class 'pandas.core.frame.DataFrame'>\n",
      "RangeIndex: 2356 entries, 0 to 2355\n",
      "Data columns (total 17 columns):\n",
      " #   Column                      Non-Null Count  Dtype              \n",
      "---  ------                      --------------  -----              \n",
      " 0   tweet_id                    2356 non-null   int64              \n",
      " 1   in_reply_to_status_id       78 non-null     float64            \n",
      " 2   in_reply_to_user_id         78 non-null     float64            \n",
      " 3   timestamp                   2356 non-null   datetime64[ns, UTC]\n",
      " 4   source                      2356 non-null   object             \n",
      " 5   text                        2356 non-null   object             \n",
      " 6   retweeted_status_id         181 non-null    float64            \n",
      " 7   retweeted_status_user_id    181 non-null    float64            \n",
      " 8   retweeted_status_timestamp  181 non-null    object             \n",
      " 9   expanded_urls               2297 non-null   object             \n",
      " 10  rating_numerator            2356 non-null   int64              \n",
      " 11  rating_denominator          2356 non-null   int64              \n",
      " 12  name                        1611 non-null   object             \n",
      " 13  doggo                       97 non-null     object             \n",
      " 14  floofer                     10 non-null     object             \n",
      " 15  pupper                      257 non-null    object             \n",
      " 16  puppo                       30 non-null     object             \n",
      "dtypes: datetime64[ns, UTC](1), float64(4), int64(3), object(9)\n",
      "memory usage: 313.0+ KB\n"
     ]
    }
   ],
   "source": [
    "twitter_archive_clean.info()"
   ]
  },
  {
   "cell_type": "markdown",
   "metadata": {},
   "source": [
    "### Issue #2: 2 tweets in twitter_archive were deleted from twitter"
   ]
  },
  {
   "cell_type": "markdown",
   "metadata": {
    "collapsed": true,
    "extensions": {
     "jupyter_dashboards": {
      "version": 1,
      "views": {
       "grid_default": {
        "hidden": true
       },
       "report_default": {
        "hidden": true
       }
      }
     }
    }
   },
   "source": [
    "#### Define: Delete tweets with these ids from all dataframes"
   ]
  },
  {
   "cell_type": "markdown",
   "metadata": {},
   "source": [
    "#### Code"
   ]
  },
  {
   "cell_type": "code",
   "execution_count": 27,
   "metadata": {},
   "outputs": [],
   "source": [
    "def delete_rows(df, ids, column):\n",
    "    df.drop(df[df[column].isin(ids)].index.values, axis = 0, inplace = True)\n",
    "    df.reset_index(inplace = True, drop = True)"
   ]
  },
  {
   "cell_type": "code",
   "execution_count": 28,
   "metadata": {},
   "outputs": [],
   "source": [
    "#Deleting these tweets from tweets_archive_clean and reseting index\n",
    "delete_rows(twitter_archive_clean, deleted_tweets_ids, \"tweet_id\")\n",
    "\n",
    "#Deleting these tweets from image_predictions_clean and reseting index\n",
    "delete_rows(image_predictions_clean, deleted_tweets_ids, \"tweet_id\")"
   ]
  },
  {
   "cell_type": "markdown",
   "metadata": {},
   "source": [
    "#### Test"
   ]
  },
  {
   "cell_type": "code",
   "execution_count": 29,
   "metadata": {},
   "outputs": [
    {
     "name": "stdout",
     "output_type": "stream",
     "text": [
      "There are 0 deleted tweets in twitter_archive_clean\n",
      "There are 0 deleted tweets in image_predictions_clean\n"
     ]
    }
   ],
   "source": [
    "print(f'There are {len(twitter_archive_clean[twitter_archive_clean[\"tweet_id\"].isin(deleted_tweets_ids)].index.values)} deleted tweets in twitter_archive_clean')\n",
    "print(f'There are {len(image_predictions_clean[image_predictions_clean[\"tweet_id\"].isin(deleted_tweets_ids)].index.values)} deleted tweets in image_predictions_clean')"
   ]
  },
  {
   "cell_type": "code",
   "execution_count": 30,
   "metadata": {},
   "outputs": [
    {
     "name": "stdout",
     "output_type": "stream",
     "text": [
      "<class 'pandas.core.frame.DataFrame'>\n",
      "RangeIndex: 2354 entries, 0 to 2353\n",
      "Data columns (total 17 columns):\n",
      " #   Column                      Non-Null Count  Dtype              \n",
      "---  ------                      --------------  -----              \n",
      " 0   tweet_id                    2354 non-null   int64              \n",
      " 1   in_reply_to_status_id       78 non-null     float64            \n",
      " 2   in_reply_to_user_id         78 non-null     float64            \n",
      " 3   timestamp                   2354 non-null   datetime64[ns, UTC]\n",
      " 4   source                      2354 non-null   object             \n",
      " 5   text                        2354 non-null   object             \n",
      " 6   retweeted_status_id         179 non-null    float64            \n",
      " 7   retweeted_status_user_id    179 non-null    float64            \n",
      " 8   retweeted_status_timestamp  179 non-null    object             \n",
      " 9   expanded_urls               2295 non-null   object             \n",
      " 10  rating_numerator            2354 non-null   int64              \n",
      " 11  rating_denominator          2354 non-null   int64              \n",
      " 12  name                        1610 non-null   object             \n",
      " 13  doggo                       97 non-null     object             \n",
      " 14  floofer                     10 non-null     object             \n",
      " 15  pupper                      256 non-null    object             \n",
      " 16  puppo                       30 non-null     object             \n",
      "dtypes: datetime64[ns, UTC](1), float64(4), int64(3), object(9)\n",
      "memory usage: 312.8+ KB\n"
     ]
    }
   ],
   "source": [
    "twitter_archive_clean.info()"
   ]
  },
  {
   "cell_type": "code",
   "execution_count": 31,
   "metadata": {},
   "outputs": [
    {
     "name": "stdout",
     "output_type": "stream",
     "text": [
      "<class 'pandas.core.frame.DataFrame'>\n",
      "RangeIndex: 2073 entries, 0 to 2072\n",
      "Data columns (total 12 columns):\n",
      " #   Column    Non-Null Count  Dtype  \n",
      "---  ------    --------------  -----  \n",
      " 0   tweet_id  2073 non-null   int64  \n",
      " 1   jpg_url   2073 non-null   object \n",
      " 2   img_num   2073 non-null   int64  \n",
      " 3   p1        2073 non-null   object \n",
      " 4   p1_conf   2073 non-null   float64\n",
      " 5   p1_dog    2073 non-null   bool   \n",
      " 6   p2        2073 non-null   object \n",
      " 7   p2_conf   2073 non-null   float64\n",
      " 8   p2_dog    2073 non-null   bool   \n",
      " 9   p3        2073 non-null   object \n",
      " 10  p3_conf   2073 non-null   float64\n",
      " 11  p3_dog    2073 non-null   bool   \n",
      "dtypes: bool(3), float64(3), int64(2), object(4)\n",
      "memory usage: 152.0+ KB\n"
     ]
    }
   ],
   "source": [
    "image_predictions_clean.info()"
   ]
  },
  {
   "cell_type": "markdown",
   "metadata": {},
   "source": [
    "### Issue #3: 285 non-original tweets are present in tweet_json"
   ]
  },
  {
   "cell_type": "markdown",
   "metadata": {},
   "source": [
    "#### Define: Delete tweets with these ids from all dataframes"
   ]
  },
  {
   "cell_type": "markdown",
   "metadata": {},
   "source": [
    "#### Code"
   ]
  },
  {
   "cell_type": "code",
   "execution_count": 32,
   "metadata": {},
   "outputs": [],
   "source": [
    "#Deleting these tweets from tweets_archive_clean and reseting index\n",
    "delete_rows(twitter_archive_clean, non_original_tweets_ids, \"tweet_id\")\n",
    "\n",
    "#Deleting these tweets from image_predictions_clean and reseting index\n",
    "delete_rows(image_predictions_clean, non_original_tweets_ids, \"tweet_id\")\n",
    "\n",
    "#Deleting these tweets from tweets_json and reseting index\n",
    "delete_rows(tweet_json_clean, non_original_tweets_ids, \"id\")"
   ]
  },
  {
   "cell_type": "markdown",
   "metadata": {},
   "source": [
    "#### Test"
   ]
  },
  {
   "cell_type": "code",
   "execution_count": 33,
   "metadata": {
    "scrolled": false
   },
   "outputs": [
    {
     "name": "stdout",
     "output_type": "stream",
     "text": [
      "There are 0 deleted tweets in twitter_archive_clean\n",
      "There are 0 deleted tweets in image_predictions_clean\n",
      "There are 0 deleted tweets in tweet_json_clean\n"
     ]
    }
   ],
   "source": [
    "print(f'There are {len(twitter_archive_clean[twitter_archive_clean[\"tweet_id\"].isin(non_original_tweets_ids)].index.values)} deleted tweets in twitter_archive_clean')\n",
    "print(f'There are {len(image_predictions_clean[image_predictions_clean[\"tweet_id\"].isin(non_original_tweets_ids)].index.values)} deleted tweets in image_predictions_clean')\n",
    "print(f'There are {len(tweet_json_clean[tweet_json_clean[\"id\"].isin(non_original_tweets_ids)].index.values)} deleted tweets in tweet_json_clean')"
   ]
  },
  {
   "cell_type": "code",
   "execution_count": 34,
   "metadata": {
    "scrolled": true
   },
   "outputs": [
    {
     "name": "stdout",
     "output_type": "stream",
     "text": [
      "<class 'pandas.core.frame.DataFrame'>\n",
      "RangeIndex: 2069 entries, 0 to 2068\n",
      "Data columns (total 17 columns):\n",
      " #   Column                      Non-Null Count  Dtype              \n",
      "---  ------                      --------------  -----              \n",
      " 0   tweet_id                    2069 non-null   int64              \n",
      " 1   in_reply_to_status_id       0 non-null      float64            \n",
      " 2   in_reply_to_user_id         0 non-null      float64            \n",
      " 3   timestamp                   2069 non-null   datetime64[ns, UTC]\n",
      " 4   source                      2069 non-null   object             \n",
      " 5   text                        2069 non-null   object             \n",
      " 6   retweeted_status_id         0 non-null      float64            \n",
      " 7   retweeted_status_user_id    0 non-null      float64            \n",
      " 8   retweeted_status_timestamp  0 non-null      object             \n",
      " 9   expanded_urls               2066 non-null   object             \n",
      " 10  rating_numerator            2069 non-null   int64              \n",
      " 11  rating_denominator          2069 non-null   int64              \n",
      " 12  name                        1493 non-null   object             \n",
      " 13  doggo                       80 non-null     object             \n",
      " 14  floofer                     10 non-null     object             \n",
      " 15  pupper                      228 non-null    object             \n",
      " 16  puppo                       24 non-null     object             \n",
      "dtypes: datetime64[ns, UTC](1), float64(4), int64(3), object(9)\n",
      "memory usage: 274.9+ KB\n"
     ]
    }
   ],
   "source": [
    "twitter_archive_clean.info()"
   ]
  },
  {
   "cell_type": "code",
   "execution_count": 35,
   "metadata": {
    "scrolled": false
   },
   "outputs": [
    {
     "name": "stdout",
     "output_type": "stream",
     "text": [
      "<class 'pandas.core.frame.DataFrame'>\n",
      "RangeIndex: 1971 entries, 0 to 1970\n",
      "Data columns (total 12 columns):\n",
      " #   Column    Non-Null Count  Dtype  \n",
      "---  ------    --------------  -----  \n",
      " 0   tweet_id  1971 non-null   int64  \n",
      " 1   jpg_url   1971 non-null   object \n",
      " 2   img_num   1971 non-null   int64  \n",
      " 3   p1        1971 non-null   object \n",
      " 4   p1_conf   1971 non-null   float64\n",
      " 5   p1_dog    1971 non-null   bool   \n",
      " 6   p2        1971 non-null   object \n",
      " 7   p2_conf   1971 non-null   float64\n",
      " 8   p2_dog    1971 non-null   bool   \n",
      " 9   p3        1971 non-null   object \n",
      " 10  p3_conf   1971 non-null   float64\n",
      " 11  p3_dog    1971 non-null   bool   \n",
      "dtypes: bool(3), float64(3), int64(2), object(4)\n",
      "memory usage: 144.5+ KB\n"
     ]
    }
   ],
   "source": [
    "image_predictions_clean.info()"
   ]
  },
  {
   "cell_type": "code",
   "execution_count": 36,
   "metadata": {
    "scrolled": true
   },
   "outputs": [
    {
     "name": "stdout",
     "output_type": "stream",
     "text": [
      "<class 'pandas.core.frame.DataFrame'>\n",
      "RangeIndex: 2069 entries, 0 to 2068\n",
      "Data columns (total 7 columns):\n",
      " #   Column                 Non-Null Count  Dtype  \n",
      "---  ------                 --------------  -----  \n",
      " 0   id                     2069 non-null   int64  \n",
      " 1   in_reply_to_status_id  0 non-null      float64\n",
      " 2   in_reply_to_user_id    0 non-null      float64\n",
      " 3   retweet_count          2069 non-null   int64  \n",
      " 4   favorite_count         2069 non-null   int64  \n",
      " 5   retweeted_status       0 non-null      object \n",
      " 6   quoted_status          0 non-null      object \n",
      "dtypes: float64(2), int64(3), object(2)\n",
      "memory usage: 113.3+ KB\n"
     ]
    }
   ],
   "source": [
    "tweet_json_clean.info()"
   ]
  },
  {
   "cell_type": "markdown",
   "metadata": {},
   "source": [
    "### Issue #4: Non dog images of tweets (for example: hen or turtle) in image_predictions"
   ]
  },
  {
   "cell_type": "markdown",
   "metadata": {},
   "source": [
    "#### Define: Set the  pupper of these tweets to \"Not a dog\""
   ]
  },
  {
   "cell_type": "markdown",
   "metadata": {},
   "source": [
    "#### Code"
   ]
  },
  {
   "cell_type": "code",
   "execution_count": 37,
   "metadata": {},
   "outputs": [],
   "source": [
    "twitter_archive_clean.loc[(twitter_archive_clean[\"tweet_id\"].isin(non_dog_tweets_ids)) & \n",
    "                          (twitter_archive_clean[\"tweet_id\"].isin(twitter_archive_clean.loc[twitter_archive_clean[\"doggo\"].isna() &\n",
    "                   twitter_archive_clean[\"floofer\"].isna() &\n",
    "                   twitter_archive_clean[\"puppo\"].isna() &\n",
    "                   twitter_archive_clean[\"pupper\"].isna(), \"tweet_id\"])), \"pupper\"] = \"Not a dog\""
   ]
  },
  {
   "cell_type": "markdown",
   "metadata": {},
   "source": [
    "#### Test"
   ]
  },
  {
   "cell_type": "code",
   "execution_count": 38,
   "metadata": {
    "scrolled": false
   },
   "outputs": [
    {
     "data": {
      "text/plain": [
       "0       Not a dog\n",
       "21      Not a dog\n",
       "27      Not a dog\n",
       "50      Not a dog\n",
       "51      Not a dog\n",
       "          ...    \n",
       "2043    Not a dog\n",
       "2047    Not a dog\n",
       "2050    Not a dog\n",
       "2051    Not a dog\n",
       "2062    Not a dog\n",
       "Name: pupper, Length: 305, dtype: object"
      ]
     },
     "execution_count": 38,
     "metadata": {},
     "output_type": "execute_result"
    }
   ],
   "source": [
    "twitter_archive_clean[twitter_archive_clean[\"tweet_id\"].isin(non_dog_tweets_ids)].pupper"
   ]
  },
  {
   "cell_type": "markdown",
   "metadata": {},
   "source": [
    "### Issue #5: dog breed names starting letter is a mix of uppercase and lowercase letters in (p1, p2, p3) of image_predictions &  _  rather than spaces"
   ]
  },
  {
   "cell_type": "markdown",
   "metadata": {},
   "source": [
    "#### Define: replace \"_\" with \" \" and use upper on all"
   ]
  },
  {
   "cell_type": "markdown",
   "metadata": {},
   "source": [
    "#### Code"
   ]
  },
  {
   "cell_type": "code",
   "execution_count": 39,
   "metadata": {},
   "outputs": [],
   "source": [
    "image_predictions_clean[[\"p1\", \"p2\", \"p3\"]] = image_predictions_clean[[\"p1\", \"p2\", \"p3\"]].apply(lambda x: x.str.replace(\"_\", \" \").str.title())"
   ]
  },
  {
   "cell_type": "markdown",
   "metadata": {},
   "source": [
    "#### Test"
   ]
  },
  {
   "cell_type": "code",
   "execution_count": 40,
   "metadata": {},
   "outputs": [
    {
     "data": {
      "text/html": [
       "<div>\n",
       "<style scoped>\n",
       "    .dataframe tbody tr th:only-of-type {\n",
       "        vertical-align: middle;\n",
       "    }\n",
       "\n",
       "    .dataframe tbody tr th {\n",
       "        vertical-align: top;\n",
       "    }\n",
       "\n",
       "    .dataframe thead th {\n",
       "        text-align: right;\n",
       "    }\n",
       "</style>\n",
       "<table border=\"1\" class=\"dataframe\">\n",
       "  <thead>\n",
       "    <tr style=\"text-align: right;\">\n",
       "      <th></th>\n",
       "      <th>p1</th>\n",
       "      <th>p2</th>\n",
       "      <th>p3</th>\n",
       "    </tr>\n",
       "  </thead>\n",
       "  <tbody>\n",
       "    <tr>\n",
       "      <th>0</th>\n",
       "      <td>Welsh Springer Spaniel</td>\n",
       "      <td>Collie</td>\n",
       "      <td>Shetland Sheepdog</td>\n",
       "    </tr>\n",
       "    <tr>\n",
       "      <th>1</th>\n",
       "      <td>Redbone</td>\n",
       "      <td>Miniature Pinscher</td>\n",
       "      <td>Rhodesian Ridgeback</td>\n",
       "    </tr>\n",
       "    <tr>\n",
       "      <th>2</th>\n",
       "      <td>German Shepherd</td>\n",
       "      <td>Malinois</td>\n",
       "      <td>Bloodhound</td>\n",
       "    </tr>\n",
       "    <tr>\n",
       "      <th>3</th>\n",
       "      <td>Rhodesian Ridgeback</td>\n",
       "      <td>Redbone</td>\n",
       "      <td>Miniature Pinscher</td>\n",
       "    </tr>\n",
       "    <tr>\n",
       "      <th>4</th>\n",
       "      <td>Miniature Pinscher</td>\n",
       "      <td>Rottweiler</td>\n",
       "      <td>Doberman</td>\n",
       "    </tr>\n",
       "    <tr>\n",
       "      <th>...</th>\n",
       "      <td>...</td>\n",
       "      <td>...</td>\n",
       "      <td>...</td>\n",
       "    </tr>\n",
       "    <tr>\n",
       "      <th>1966</th>\n",
       "      <td>Basset</td>\n",
       "      <td>English Springer</td>\n",
       "      <td>German Short-Haired Pointer</td>\n",
       "    </tr>\n",
       "    <tr>\n",
       "      <th>1967</th>\n",
       "      <td>Paper Towel</td>\n",
       "      <td>Labrador Retriever</td>\n",
       "      <td>Spatula</td>\n",
       "    </tr>\n",
       "    <tr>\n",
       "      <th>1968</th>\n",
       "      <td>Chihuahua</td>\n",
       "      <td>Malamute</td>\n",
       "      <td>Kelpie</td>\n",
       "    </tr>\n",
       "    <tr>\n",
       "      <th>1969</th>\n",
       "      <td>Chihuahua</td>\n",
       "      <td>Pekinese</td>\n",
       "      <td>Papillon</td>\n",
       "    </tr>\n",
       "    <tr>\n",
       "      <th>1970</th>\n",
       "      <td>Orange</td>\n",
       "      <td>Bagel</td>\n",
       "      <td>Banana</td>\n",
       "    </tr>\n",
       "  </tbody>\n",
       "</table>\n",
       "<p>1971 rows × 3 columns</p>\n",
       "</div>"
      ],
      "text/plain": [
       "                          p1                  p2                           p3\n",
       "0     Welsh Springer Spaniel              Collie            Shetland Sheepdog\n",
       "1                    Redbone  Miniature Pinscher          Rhodesian Ridgeback\n",
       "2            German Shepherd            Malinois                   Bloodhound\n",
       "3        Rhodesian Ridgeback             Redbone           Miniature Pinscher\n",
       "4         Miniature Pinscher          Rottweiler                     Doberman\n",
       "...                      ...                 ...                          ...\n",
       "1966                  Basset    English Springer  German Short-Haired Pointer\n",
       "1967             Paper Towel  Labrador Retriever                      Spatula\n",
       "1968               Chihuahua            Malamute                       Kelpie\n",
       "1969               Chihuahua            Pekinese                     Papillon\n",
       "1970                  Orange               Bagel                       Banana\n",
       "\n",
       "[1971 rows x 3 columns]"
      ]
     },
     "execution_count": 40,
     "metadata": {},
     "output_type": "execute_result"
    }
   ],
   "source": [
    "image_predictions_clean[[\"p1\", \"p2\", \"p3\"]]"
   ]
  },
  {
   "cell_type": "markdown",
   "metadata": {},
   "source": [
    "### Issue #6: Remove <a.> tag from source in twitter_archive"
   ]
  },
  {
   "cell_type": "markdown",
   "metadata": {},
   "source": [
    "#### Define: Use beautifulsoup to extract text"
   ]
  },
  {
   "cell_type": "markdown",
   "metadata": {},
   "source": [
    "#### Code"
   ]
  },
  {
   "cell_type": "code",
   "execution_count": 41,
   "metadata": {},
   "outputs": [],
   "source": [
    "twitter_archive_clean[\"source\"] = twitter_archive_clean[\"source\"].apply(lambda x: BeautifulSoup(x, \"html.parser\").text)"
   ]
  },
  {
   "cell_type": "markdown",
   "metadata": {},
   "source": [
    "#### Test"
   ]
  },
  {
   "cell_type": "code",
   "execution_count": 42,
   "metadata": {},
   "outputs": [
    {
     "data": {
      "text/plain": [
       "0       Twitter for iPhone\n",
       "1       Twitter for iPhone\n",
       "2       Twitter for iPhone\n",
       "3       Twitter for iPhone\n",
       "4       Twitter for iPhone\n",
       "               ...        \n",
       "2064    Twitter for iPhone\n",
       "2065    Twitter for iPhone\n",
       "2066    Twitter for iPhone\n",
       "2067    Twitter for iPhone\n",
       "2068    Twitter for iPhone\n",
       "Name: source, Length: 2069, dtype: object"
      ]
     },
     "execution_count": 42,
     "metadata": {},
     "output_type": "execute_result"
    }
   ],
   "source": [
    "twitter_archive_clean.source"
   ]
  },
  {
   "cell_type": "markdown",
   "metadata": {},
   "source": [
    "### Issue #7: Most links at the end of text in twitter_archive are corrupt"
   ]
  },
  {
   "cell_type": "markdown",
   "metadata": {},
   "source": [
    "#### Define: Delete the links from the end of the text"
   ]
  },
  {
   "cell_type": "markdown",
   "metadata": {},
   "source": [
    "#### Code"
   ]
  },
  {
   "cell_type": "code",
   "execution_count": 43,
   "metadata": {},
   "outputs": [
    {
     "name": "stderr",
     "output_type": "stream",
     "text": [
      "<>:1: SyntaxWarning: invalid escape sequence '\\.'\n",
      "<>:1: SyntaxWarning: invalid escape sequence '\\.'\n",
      "C:\\Users\\Public\\Documents\\Wondershare\\CreatorTemp\\ipykernel_4480\\4213602873.py:1: SyntaxWarning: invalid escape sequence '\\.'\n",
      "  twitter_archive_clean[\"text\"] = twitter_archive_clean[\"text\"].replace(\"https?://t\\.co/\\S+\", \"\", regex=True)\n"
     ]
    }
   ],
   "source": [
    "twitter_archive_clean[\"text\"] = twitter_archive_clean[\"text\"].replace(\"https?://t\\.co/\\S+\", \"\", regex=True)"
   ]
  },
  {
   "cell_type": "markdown",
   "metadata": {},
   "source": [
    "#### Test"
   ]
  },
  {
   "cell_type": "code",
   "execution_count": 44,
   "metadata": {},
   "outputs": [
    {
     "data": {
      "text/plain": [
       "\"This is Phineas. He's a mystical boy. Only ever appears in the hole of a donut. 13/10 \""
      ]
     },
     "execution_count": 44,
     "metadata": {},
     "output_type": "execute_result"
    }
   ],
   "source": [
    "twitter_archive_clean.iloc[0].text"
   ]
  },
  {
   "cell_type": "markdown",
   "metadata": {},
   "source": [
    "### Issue #8: Missing category (doggo, pupper, puppo, floofer) in twitter_archive"
   ]
  },
  {
   "cell_type": "markdown",
   "metadata": {
    "collapsed": true,
    "extensions": {
     "jupyter_dashboards": {
      "version": 1,
      "views": {
       "grid_default": {
        "hidden": true
       },
       "report_default": {
        "hidden": true
       }
      }
     }
    }
   },
   "source": [
    "#### Define: Make a function to assume the category based on the dog type in image_predictions"
   ]
  },
  {
   "cell_type": "markdown",
   "metadata": {},
   "source": [
    "#### Code"
   ]
  },
  {
   "cell_type": "code",
   "execution_count": 45,
   "metadata": {},
   "outputs": [
    {
     "data": {
      "text/plain": [
       "{'Affenpinscher',\n",
       " 'Afghan Hound',\n",
       " 'Airedale',\n",
       " 'American Staffordshire Terrier',\n",
       " 'Appenzeller',\n",
       " 'Australian Terrier',\n",
       " 'Basenji',\n",
       " 'Basset',\n",
       " 'Beagle',\n",
       " 'Bedlington Terrier',\n",
       " 'Bernese Mountain Dog',\n",
       " 'Black-And-Tan Coonhound',\n",
       " 'Blenheim Spaniel',\n",
       " 'Bloodhound',\n",
       " 'Bluetick',\n",
       " 'Border Collie',\n",
       " 'Border Terrier',\n",
       " 'Borzoi',\n",
       " 'Boston Bull',\n",
       " 'Bouvier Des Flandres',\n",
       " 'Boxer',\n",
       " 'Brabancon Griffon',\n",
       " 'Briard',\n",
       " 'Brittany Spaniel',\n",
       " 'Bull Mastiff',\n",
       " 'Cairn',\n",
       " 'Cardigan',\n",
       " 'Chesapeake Bay Retriever',\n",
       " 'Chihuahua',\n",
       " 'Chow',\n",
       " 'Clumber',\n",
       " 'Cocker Spaniel',\n",
       " 'Collie',\n",
       " 'Curly-Coated Retriever',\n",
       " 'Dalmatian',\n",
       " 'Dandie Dinmont',\n",
       " 'Doberman',\n",
       " 'English Foxhound',\n",
       " 'English Setter',\n",
       " 'English Springer',\n",
       " 'Entlebucher',\n",
       " 'Eskimo Dog',\n",
       " 'Flat-Coated Retriever',\n",
       " 'French Bulldog',\n",
       " 'German Shepherd',\n",
       " 'German Short-Haired Pointer',\n",
       " 'Giant Schnauzer',\n",
       " 'Golden Retriever',\n",
       " 'Gordon Setter',\n",
       " 'Great Dane',\n",
       " 'Great Pyrenees',\n",
       " 'Greater Swiss Mountain Dog',\n",
       " 'Groenendael',\n",
       " 'Ibizan Hound',\n",
       " 'Irish Setter',\n",
       " 'Irish Terrier',\n",
       " 'Irish Water Spaniel',\n",
       " 'Irish Wolfhound',\n",
       " 'Italian Greyhound',\n",
       " 'Japanese Spaniel',\n",
       " 'Keeshond',\n",
       " 'Kelpie',\n",
       " 'Kerry Blue Terrier',\n",
       " 'Komondor',\n",
       " 'Kuvasz',\n",
       " 'Labrador Retriever',\n",
       " 'Lakeland Terrier',\n",
       " 'Leonberg',\n",
       " 'Lhasa',\n",
       " 'Malamute',\n",
       " 'Malinois',\n",
       " 'Maltese Dog',\n",
       " 'Mexican Hairless',\n",
       " 'Miniature Pinscher',\n",
       " 'Miniature Poodle',\n",
       " 'Miniature Schnauzer',\n",
       " 'Newfoundland',\n",
       " 'Norfolk Terrier',\n",
       " 'Norwegian Elkhound',\n",
       " 'Norwich Terrier',\n",
       " 'Old English Sheepdog',\n",
       " 'Otterhound',\n",
       " 'Papillon',\n",
       " 'Pekinese',\n",
       " 'Pembroke',\n",
       " 'Pomeranian',\n",
       " 'Pug',\n",
       " 'Redbone',\n",
       " 'Rhodesian Ridgeback',\n",
       " 'Rottweiler',\n",
       " 'Saint Bernard',\n",
       " 'Saluki',\n",
       " 'Samoyed',\n",
       " 'Schipperke',\n",
       " 'Scotch Terrier',\n",
       " 'Scottish Deerhound',\n",
       " 'Sealyham Terrier',\n",
       " 'Shetland Sheepdog',\n",
       " 'Shih-Tzu',\n",
       " 'Siberian Husky',\n",
       " 'Silky Terrier',\n",
       " 'Soft-Coated Wheaten Terrier',\n",
       " 'Staffordshire Bullterrier',\n",
       " 'Standard Poodle',\n",
       " 'Standard Schnauzer',\n",
       " 'Sussex Spaniel',\n",
       " 'Tibetan Mastiff',\n",
       " 'Tibetan Terrier',\n",
       " 'Toy Poodle',\n",
       " 'Toy Terrier',\n",
       " 'Vizsla',\n",
       " 'Walker Hound',\n",
       " 'Weimaraner',\n",
       " 'Welsh Springer Spaniel',\n",
       " 'West Highland White Terrier',\n",
       " 'Whippet',\n",
       " 'Wire-Haired Fox Terrier',\n",
       " 'Yorkshire Terrier'}"
      ]
     },
     "execution_count": 45,
     "metadata": {},
     "output_type": "execute_result"
    }
   ],
   "source": [
    "#makes a set and enters each dog's breed if it's a breed\n",
    "missing_category_breeds = image_predictions_clean[image_predictions_clean[\"tweet_id\"].isin(missing_category_tweets_ids)]\n",
    "dog_breeds = set()\n",
    "for index in missing_category_breeds.index:\n",
    "    for i in range(1,4):\n",
    "        if missing_category_breeds.loc[index, f\"p{i}_dog\"] == True:\n",
    "            dog_breeds.add(missing_category_breeds.loc[index, f\"p{i}\"])\n",
    "dog_breeds"
   ]
  },
  {
   "cell_type": "code",
   "execution_count": 46,
   "metadata": {},
   "outputs": [
    {
     "name": "stdout",
     "output_type": "stream",
     "text": [
      "238 tweets were deleted before\n",
      "70 tweets had no images\n",
      "1410 categories were updated succesfully\n"
     ]
    }
   ],
   "source": [
    "DoggoLingo = {\n",
    "    \"Affenpinscher\": \"pupper\",\n",
    "    \"Afghan Hound\": \"doggo\",\n",
    "    \"Airedale\": \"doggo\",\n",
    "    \"American Staffordshire Terrier\": \"doggo\",\n",
    "    \"Appenzeller\": \"doggo\",\n",
    "    \"Australian Terrier\": \"pupper\",\n",
    "    \"Basenji\": \"pupper\",\n",
    "    \"Basset\": \"doggo\",\n",
    "    \"Beagle\": \"pupper\",\n",
    "    \"Bedlington Terrier\": \"pupper\",\n",
    "    \"Bernese Mountain Dog\": [\"doggo\", \"floofer\"],\n",
    "    \"Black-And-Tan Coonhound\": \"doggo\",\n",
    "    \"Blenheim Spaniel\": \"pupper\",\n",
    "    \"Bloodhound\": \"doggo\",\n",
    "    \"Bluetick\": \"doggo\",\n",
    "    \"Border Collie\": \"doggo\",\n",
    "    \"Border Terrier\": \"pupper\",\n",
    "    \"Borzoi\": [\"doggo\", \"floofer\"],\n",
    "    \"Boston Bull\": \"pupper\",\n",
    "    \"Bouvier Des Flandres\": [\"doggo\", \"floofer\"],\n",
    "    \"Boxer\": \"doggo\",\n",
    "    \"Brabancon Griffon\": \"pupper\",\n",
    "    \"Briard\": [\"doggo\", \"floofer\"],\n",
    "    \"Brittany Spaniel\": \"doggo\",\n",
    "    \"Bull Mastiff\": \"doggo\",\n",
    "    \"Cairn\": \"pupper\",\n",
    "    \"Cardigan\": \"pupper\",\n",
    "    \"Chesapeake Bay Retriever\": \"doggo\",\n",
    "    \"Chihuahua\": \"pupper\",\n",
    "    \"Chow\": [\"doggo\", \"floofer\"],\n",
    "    \"Clumber\": [\"doggo\", \"floofer\"],\n",
    "    \"Cocker Spaniel\": \"pupper\",\n",
    "    \"Collie\": \"doggo\",\n",
    "    \"Curly-Coated Retriever\": \"doggo\",\n",
    "    \"Dalmatian\": \"doggo\",\n",
    "    \"Dandie Dinmont\": \"pupper\",\n",
    "    \"Doberman\": \"doggo\",\n",
    "    \"English Foxhound\": \"doggo\",\n",
    "    \"English Setter\": \"doggo\",\n",
    "    \"English Springer\": \"doggo\",\n",
    "    \"Entlebucher\": \"doggo\",\n",
    "    \"Eskimo Dog\": [\"doggo\", \"floofer\"],\n",
    "    \"Flat-Coated Retriever\": \"doggo\",\n",
    "    \"French Bulldog\": \"pupper\",\n",
    "    \"German Shepherd\": \"doggo\",\n",
    "    \"German Short-Haired Pointer\": \"doggo\",\n",
    "    \"Giant Schnauzer\": [\"doggo\", \"floofer\"],\n",
    "    \"Golden Retriever\": \"doggo\",\n",
    "    \"Gordon Setter\": \"doggo\",\n",
    "    \"Great Dane\": \"doggo\",\n",
    "    \"Great Pyrenees\": [\"doggo\", \"floofer\"],\n",
    "    \"Greater Swiss Mountain Dog\": \"doggo\",\n",
    "    \"Groenendael\": \"doggo\",\n",
    "    \"Ibizan Hound\": \"doggo\",\n",
    "    \"Irish Setter\": \"doggo\",\n",
    "    \"Irish Terrier\": \"pupper\",\n",
    "    \"Irish Water Spaniel\": [\"doggo\", \"floofer\"],\n",
    "    \"Irish Wolfhound\": [\"doggo\", \"floofer\"],\n",
    "    \"Italian Greyhound\": \"pupper\",\n",
    "    \"Japanese Spaniel\": \"pupper\",\n",
    "    \"Keeshond\": [\"doggo\", \"floofer\"],\n",
    "    \"Kelpie\": \"doggo\",\n",
    "    \"Kerry Blue Terrier\": \"pupper\",\n",
    "    \"Komondor\": [\"doggo\", \"floofer\"],\n",
    "    \"Kuvasz\": [\"doggo\", \"floofer\"],\n",
    "    \"Labrador Retriever\": \"doggo\",\n",
    "    \"Lakeland Terrier\": \"pupper\",\n",
    "    \"Leonberg\": [\"doggo\", \"floofer\"],\n",
    "    \"Lhasa\": \"pupper\",\n",
    "    \"Malamute\": [\"doggo\", \"floofer\"],\n",
    "    \"Malinois\": \"doggo\",\n",
    "    \"Maltese Dog\": \"pupper\",\n",
    "    \"Mexican Hairless\": \"pupper\",\n",
    "    \"Miniature Pinscher\": \"pupper\",\n",
    "    \"Miniature Poodle\": \"pupper\",\n",
    "    \"Miniature Schnauzer\": \"pupper\",\n",
    "    \"Newfoundland\": [\"doggo\", \"floofer\"],\n",
    "    \"Norfolk Terrier\": \"pupper\",\n",
    "    \"Norwegian Elkhound\": \"doggo\",\n",
    "    \"Norwich Terrier\": \"pupper\",\n",
    "    \"Old English Sheepdog\": [\"doggo\", \"floofer\"],\n",
    "    \"Otterhound\": \"doggo\",\n",
    "    \"Papillon\": \"pupper\",\n",
    "    \"Pekinese\": \"pupper\",\n",
    "    \"Pembroke\": \"pupper\",\n",
    "    \"Pomeranian\": \"floofer\",\n",
    "    \"Pug\": \"pupper\",\n",
    "    \"Redbone\": \"doggo\",\n",
    "    \"Rhodesian Ridgeback\": \"doggo\",\n",
    "    \"Rottweiler\": \"doggo\",\n",
    "    \"Saint Bernard\": [\"doggo\", \"floofer\"],\n",
    "    \"Saluki\": \"doggo\",\n",
    "    \"Samoyed\": [\"doggo\", \"floofer\"],\n",
    "    \"Schipperke\": \"pupper\",\n",
    "    \"Scotch Terrier\": \"pupper\",\n",
    "    \"Scottish Deerhound\": [\"doggo\", \"floofer\"],\n",
    "    \"Sealyham Terrier\": \"pupper\",\n",
    "    \"Shetland Sheepdog\": [\"doggo\", \"floofer\"],\n",
    "    \"Shih-Tzu\": \"pupper\",\n",
    "    \"Siberian Husky\": \"doggo\",\n",
    "    \"Silky Terrier\": \"pupper\",\n",
    "    \"Soft-Coated Wheaten Terrier\": [\"doggo\", \"floofer\"],\n",
    "    \"Staffordshire Bullterrier\": \"doggo\",\n",
    "    \"Standard Poodle\": [\"doggo\", \"floofer\"],\n",
    "    \"Standard Schnauzer\": \"doggo\",\n",
    "    \"Sussex Spaniel\": \"doggo\",\n",
    "    \"Tibetan Mastiff\": [\"doggo\", \"floofer\"],\n",
    "    \"Tibetan Terrier\": [\"doggo\", \"floofer\"],\n",
    "    \"Toy Poodle\": \"pupper\",\n",
    "    \"Toy Terrier\": \"pupper\",\n",
    "    \"Vizsla\": \"doggo\",\n",
    "    \"Walker Hound\": \"doggo\",\n",
    "    \"Weimaraner\": \"doggo\",\n",
    "    \"Welsh Springer Spaniel\": \"doggo\",\n",
    "    \"West Highland White Terrier\": \"pupper\",\n",
    "    \"Whippet\": \"doggo\",\n",
    "    \"Wire-Haired Fox Terrier\": \"pupper\",\n",
    "    \"Yorkshire Terrier\": \"pupper\"\n",
    "}\n",
    "deleted_before = 0\n",
    "no_image = 0\n",
    "updated = 0\n",
    "\n",
    "for tweet_id in missing_category_tweets_ids.values:\n",
    "    prediction = image_predictions_clean[image_predictions_clean[\"tweet_id\"] == tweet_id]\n",
    "    if prediction.empty:\n",
    "        if twitter_archive_clean[twitter_archive_clean[\"tweet_id\"] == tweet_id].empty:\n",
    "            deleted_before += 1\n",
    "        else:\n",
    "            no_image += 1\n",
    "        continue\n",
    "    else:\n",
    "        for column in [\"p1\", \"p2\", \"p3\"]:\n",
    "            breed = str(prediction[column].values[0])\n",
    "            if breed in DoggoLingo:\n",
    "                if isinstance(DoggoLingo[breed], str):\n",
    "                    twitter_archive_clean.loc[twitter_archive_clean[\"tweet_id\"] == tweet_id, DoggoLingo[breed]] = DoggoLingo[breed]\n",
    "                    updated += 1\n",
    "                    break\n",
    "                else:\n",
    "                    for category in DoggoLingo[breed]:\n",
    "                        twitter_archive_clean.loc[twitter_archive_clean[\"tweet_id\"] == tweet_id, category] = category\n",
    "                    updated += 1\n",
    "                    break\n",
    "            else:\n",
    "                continue\n",
    "print(f\"{deleted_before} tweets were deleted before\")\n",
    "print(f\"{no_image} tweets had no images\")\n",
    "print(f\"{updated} categories were updated succesfully\")"
   ]
  },
  {
   "cell_type": "code",
   "execution_count": 47,
   "metadata": {},
   "outputs": [],
   "source": [
    "#sets pupper to no image in the rows with no images\n",
    "twitter_archive_clean.loc[twitter_archive_clean[\"doggo\"].isna() &\n",
    "                   twitter_archive_clean[\"floofer\"].isna() &\n",
    "                   twitter_archive_clean[\"puppo\"].isna() &\n",
    "                   twitter_archive_clean[\"pupper\"].isna(), \"pupper\"] = \"No image\""
   ]
  },
  {
   "cell_type": "markdown",
   "metadata": {},
   "source": [
    "#### Test"
   ]
  },
  {
   "cell_type": "code",
   "execution_count": 48,
   "metadata": {},
   "outputs": [
    {
     "data": {
      "text/plain": [
       "0"
      ]
     },
     "execution_count": 48,
     "metadata": {},
     "output_type": "execute_result"
    }
   ],
   "source": [
    "len(twitter_archive_clean.loc[twitter_archive_clean[\"doggo\"].isna() &\n",
    "                   twitter_archive_clean[\"floofer\"].isna() &\n",
    "                   twitter_archive_clean[\"puppo\"].isna() &\n",
    "                   twitter_archive_clean[\"pupper\"].isna(), \"tweet_id\"])"
   ]
  },
  {
   "cell_type": "markdown",
   "metadata": {},
   "source": [
    "### Issue #9: There are 3 variables for 1 in twitter_archive (floofer, pupper, puppo) (doggo not in the list because it's present with those categories sometimes)"
   ]
  },
  {
   "cell_type": "markdown",
   "metadata": {},
   "source": [
    "#### Define: melt the columns into one and make doggo a boolean"
   ]
  },
  {
   "cell_type": "markdown",
   "metadata": {},
   "source": [
    "#### Code"
   ]
  },
  {
   "cell_type": "code",
   "execution_count": 49,
   "metadata": {},
   "outputs": [],
   "source": [
    "twitter_archive_clean = pd.melt(twitter_archive_clean ,id_vars = ['tweet_id', 'in_reply_to_status_id', 'in_reply_to_user_id', 'timestamp',\n",
    "       'source', 'text', 'retweeted_status_id', 'retweeted_status_user_id',\n",
    "       'retweeted_status_timestamp', 'expanded_urls', 'rating_numerator',\n",
    "       'rating_denominator', 'name', 'doggo'], var_name = 'categories', value_name = \"category\")"
   ]
  },
  {
   "cell_type": "code",
   "execution_count": 50,
   "metadata": {},
   "outputs": [],
   "source": [
    "twitter_archive_clean[\"doggo\"] = twitter_archive_clean[\"doggo\"].apply(lambda x: pd.notna(x))"
   ]
  },
  {
   "cell_type": "code",
   "execution_count": 51,
   "metadata": {},
   "outputs": [
    {
     "name": "stdout",
     "output_type": "stream",
     "text": [
      "Added 'doggo' to 613 rows\n"
     ]
    }
   ],
   "source": [
    "corrected_missing = 0\n",
    "for index in twitter_archive_clean.index.values:\n",
    "    duplicated_rows = twitter_archive_clean[twitter_archive_clean[\"tweet_id\"] == twitter_archive_clean.loc[index, \"tweet_id\"]]\n",
    "    NaN_count = 0\n",
    "    for index, row in duplicated_rows.iterrows():\n",
    "        if pd.isna(row[\"category\"]) and row[\"doggo\"] == True:\n",
    "            continue\n",
    "        else:\n",
    "            NaN_count += 1\n",
    "    \n",
    "    if NaN_count == 0:\n",
    "        twitter_archive_clean.loc[index, \"category\"] = \"doggo\"\n",
    "        corrected_missing += 1\n",
    "    else:\n",
    "        continue\n",
    "\n",
    "print(f\"Added 'doggo' to {corrected_missing} rows\")"
   ]
  },
  {
   "cell_type": "code",
   "execution_count": 52,
   "metadata": {
    "scrolled": false
   },
   "outputs": [],
   "source": [
    "twitter_archive_clean.drop(\"categories\", axis = 1, inplace = True)\n",
    "twitter_archive_clean.drop(twitter_archive_clean[twitter_archive_clean[\"category\"].isna()].index.values, axis = 0, inplace = True)\n",
    "twitter_archive_clean.reset_index(drop = True, inplace = True)"
   ]
  },
  {
   "cell_type": "markdown",
   "metadata": {},
   "source": [
    "#### Test"
   ]
  },
  {
   "cell_type": "code",
   "execution_count": 53,
   "metadata": {},
   "outputs": [
    {
     "name": "stdout",
     "output_type": "stream",
     "text": [
      "<class 'pandas.core.frame.DataFrame'>\n",
      "RangeIndex: 2069 entries, 0 to 2068\n",
      "Data columns (total 15 columns):\n",
      " #   Column                      Non-Null Count  Dtype              \n",
      "---  ------                      --------------  -----              \n",
      " 0   tweet_id                    2069 non-null   int64              \n",
      " 1   in_reply_to_status_id       0 non-null      float64            \n",
      " 2   in_reply_to_user_id         0 non-null      float64            \n",
      " 3   timestamp                   2069 non-null   datetime64[ns, UTC]\n",
      " 4   source                      2069 non-null   object             \n",
      " 5   text                        2069 non-null   object             \n",
      " 6   retweeted_status_id         0 non-null      float64            \n",
      " 7   retweeted_status_user_id    0 non-null      float64            \n",
      " 8   retweeted_status_timestamp  0 non-null      object             \n",
      " 9   expanded_urls               2066 non-null   object             \n",
      " 10  rating_numerator            2069 non-null   int64              \n",
      " 11  rating_denominator          2069 non-null   int64              \n",
      " 12  name                        1493 non-null   object             \n",
      " 13  doggo                       2069 non-null   bool               \n",
      " 14  category                    2069 non-null   object             \n",
      "dtypes: bool(1), datetime64[ns, UTC](1), float64(4), int64(3), object(6)\n",
      "memory usage: 228.4+ KB\n"
     ]
    }
   ],
   "source": [
    "twitter_archive_clean.info()"
   ]
  },
  {
   "cell_type": "code",
   "execution_count": 54,
   "metadata": {},
   "outputs": [
    {
     "data": {
      "text/html": [
       "<div>\n",
       "<style scoped>\n",
       "    .dataframe tbody tr th:only-of-type {\n",
       "        vertical-align: middle;\n",
       "    }\n",
       "\n",
       "    .dataframe tbody tr th {\n",
       "        vertical-align: top;\n",
       "    }\n",
       "\n",
       "    .dataframe thead th {\n",
       "        text-align: right;\n",
       "    }\n",
       "</style>\n",
       "<table border=\"1\" class=\"dataframe\">\n",
       "  <thead>\n",
       "    <tr style=\"text-align: right;\">\n",
       "      <th></th>\n",
       "      <th>tweet_id</th>\n",
       "      <th>in_reply_to_status_id</th>\n",
       "      <th>in_reply_to_user_id</th>\n",
       "      <th>timestamp</th>\n",
       "      <th>source</th>\n",
       "      <th>text</th>\n",
       "      <th>retweeted_status_id</th>\n",
       "      <th>retweeted_status_user_id</th>\n",
       "      <th>retweeted_status_timestamp</th>\n",
       "      <th>expanded_urls</th>\n",
       "      <th>rating_numerator</th>\n",
       "      <th>rating_denominator</th>\n",
       "      <th>name</th>\n",
       "      <th>doggo</th>\n",
       "      <th>category</th>\n",
       "    </tr>\n",
       "  </thead>\n",
       "  <tbody>\n",
       "    <tr>\n",
       "      <th>0</th>\n",
       "      <td>890729181411237888</td>\n",
       "      <td>NaN</td>\n",
       "      <td>NaN</td>\n",
       "      <td>2017-07-28 00:22:40+00:00</td>\n",
       "      <td>Twitter for iPhone</td>\n",
       "      <td>When you watch your owner call another dog a g...</td>\n",
       "      <td>NaN</td>\n",
       "      <td>NaN</td>\n",
       "      <td>NaN</td>\n",
       "      <td>https://twitter.com/dog_rates/status/890729181...</td>\n",
       "      <td>13</td>\n",
       "      <td>10</td>\n",
       "      <td>NaN</td>\n",
       "      <td>False</td>\n",
       "      <td>floofer</td>\n",
       "    </tr>\n",
       "    <tr>\n",
       "      <th>1</th>\n",
       "      <td>890006608113172480</td>\n",
       "      <td>NaN</td>\n",
       "      <td>NaN</td>\n",
       "      <td>2017-07-26 00:31:25+00:00</td>\n",
       "      <td>Twitter for iPhone</td>\n",
       "      <td>This is Koda. He is a South Australian decksha...</td>\n",
       "      <td>NaN</td>\n",
       "      <td>NaN</td>\n",
       "      <td>NaN</td>\n",
       "      <td>https://twitter.com/dog_rates/status/890006608...</td>\n",
       "      <td>13</td>\n",
       "      <td>10</td>\n",
       "      <td>Koda</td>\n",
       "      <td>True</td>\n",
       "      <td>floofer</td>\n",
       "    </tr>\n",
       "    <tr>\n",
       "      <th>2</th>\n",
       "      <td>887101392804085760</td>\n",
       "      <td>NaN</td>\n",
       "      <td>NaN</td>\n",
       "      <td>2017-07-18 00:07:08+00:00</td>\n",
       "      <td>Twitter for iPhone</td>\n",
       "      <td>This... is a Jubilant Antarctic House Bear. We...</td>\n",
       "      <td>NaN</td>\n",
       "      <td>NaN</td>\n",
       "      <td>NaN</td>\n",
       "      <td>https://twitter.com/dog_rates/status/887101392...</td>\n",
       "      <td>12</td>\n",
       "      <td>10</td>\n",
       "      <td>NaN</td>\n",
       "      <td>True</td>\n",
       "      <td>floofer</td>\n",
       "    </tr>\n",
       "    <tr>\n",
       "      <th>3</th>\n",
       "      <td>886736880519319552</td>\n",
       "      <td>NaN</td>\n",
       "      <td>NaN</td>\n",
       "      <td>2017-07-16 23:58:41+00:00</td>\n",
       "      <td>Twitter for iPhone</td>\n",
       "      <td>This is Mingus. He's a wonderful father to his...</td>\n",
       "      <td>NaN</td>\n",
       "      <td>NaN</td>\n",
       "      <td>NaN</td>\n",
       "      <td>https://www.gofundme.com/mingusneedsus,https:/...</td>\n",
       "      <td>13</td>\n",
       "      <td>10</td>\n",
       "      <td>Mingus</td>\n",
       "      <td>True</td>\n",
       "      <td>floofer</td>\n",
       "    </tr>\n",
       "    <tr>\n",
       "      <th>4</th>\n",
       "      <td>885167619883638784</td>\n",
       "      <td>NaN</td>\n",
       "      <td>NaN</td>\n",
       "      <td>2017-07-12 16:03:00+00:00</td>\n",
       "      <td>Twitter for iPhone</td>\n",
       "      <td>Here we have a corgi undercover as a malamute....</td>\n",
       "      <td>NaN</td>\n",
       "      <td>NaN</td>\n",
       "      <td>NaN</td>\n",
       "      <td>https://twitter.com/dog_rates/status/885167619...</td>\n",
       "      <td>13</td>\n",
       "      <td>10</td>\n",
       "      <td>NaN</td>\n",
       "      <td>True</td>\n",
       "      <td>floofer</td>\n",
       "    </tr>\n",
       "  </tbody>\n",
       "</table>\n",
       "</div>"
      ],
      "text/plain": [
       "             tweet_id  in_reply_to_status_id  in_reply_to_user_id  \\\n",
       "0  890729181411237888                    NaN                  NaN   \n",
       "1  890006608113172480                    NaN                  NaN   \n",
       "2  887101392804085760                    NaN                  NaN   \n",
       "3  886736880519319552                    NaN                  NaN   \n",
       "4  885167619883638784                    NaN                  NaN   \n",
       "\n",
       "                  timestamp              source  \\\n",
       "0 2017-07-28 00:22:40+00:00  Twitter for iPhone   \n",
       "1 2017-07-26 00:31:25+00:00  Twitter for iPhone   \n",
       "2 2017-07-18 00:07:08+00:00  Twitter for iPhone   \n",
       "3 2017-07-16 23:58:41+00:00  Twitter for iPhone   \n",
       "4 2017-07-12 16:03:00+00:00  Twitter for iPhone   \n",
       "\n",
       "                                                text  retweeted_status_id  \\\n",
       "0  When you watch your owner call another dog a g...                  NaN   \n",
       "1  This is Koda. He is a South Australian decksha...                  NaN   \n",
       "2  This... is a Jubilant Antarctic House Bear. We...                  NaN   \n",
       "3  This is Mingus. He's a wonderful father to his...                  NaN   \n",
       "4  Here we have a corgi undercover as a malamute....                  NaN   \n",
       "\n",
       "   retweeted_status_user_id retweeted_status_timestamp  \\\n",
       "0                       NaN                        NaN   \n",
       "1                       NaN                        NaN   \n",
       "2                       NaN                        NaN   \n",
       "3                       NaN                        NaN   \n",
       "4                       NaN                        NaN   \n",
       "\n",
       "                                       expanded_urls  rating_numerator  \\\n",
       "0  https://twitter.com/dog_rates/status/890729181...                13   \n",
       "1  https://twitter.com/dog_rates/status/890006608...                13   \n",
       "2  https://twitter.com/dog_rates/status/887101392...                12   \n",
       "3  https://www.gofundme.com/mingusneedsus,https:/...                13   \n",
       "4  https://twitter.com/dog_rates/status/885167619...                13   \n",
       "\n",
       "   rating_denominator    name  doggo category  \n",
       "0                  10     NaN  False  floofer  \n",
       "1                  10    Koda   True  floofer  \n",
       "2                  10     NaN   True  floofer  \n",
       "3                  10  Mingus   True  floofer  \n",
       "4                  10     NaN   True  floofer  "
      ]
     },
     "execution_count": 54,
     "metadata": {},
     "output_type": "execute_result"
    }
   ],
   "source": [
    "twitter_archive_clean.head()"
   ]
  },
  {
   "cell_type": "code",
   "execution_count": 55,
   "metadata": {},
   "outputs": [
    {
     "data": {
      "text/html": [
       "<div>\n",
       "<style scoped>\n",
       "    .dataframe tbody tr th:only-of-type {\n",
       "        vertical-align: middle;\n",
       "    }\n",
       "\n",
       "    .dataframe tbody tr th {\n",
       "        vertical-align: top;\n",
       "    }\n",
       "\n",
       "    .dataframe thead th {\n",
       "        text-align: right;\n",
       "    }\n",
       "</style>\n",
       "<table border=\"1\" class=\"dataframe\">\n",
       "  <thead>\n",
       "    <tr style=\"text-align: right;\">\n",
       "      <th></th>\n",
       "      <th>tweet_id</th>\n",
       "      <th>in_reply_to_status_id</th>\n",
       "      <th>in_reply_to_user_id</th>\n",
       "      <th>timestamp</th>\n",
       "      <th>source</th>\n",
       "      <th>text</th>\n",
       "      <th>retweeted_status_id</th>\n",
       "      <th>retweeted_status_user_id</th>\n",
       "      <th>retweeted_status_timestamp</th>\n",
       "      <th>expanded_urls</th>\n",
       "      <th>rating_numerator</th>\n",
       "      <th>rating_denominator</th>\n",
       "      <th>name</th>\n",
       "      <th>doggo</th>\n",
       "      <th>category</th>\n",
       "    </tr>\n",
       "  </thead>\n",
       "  <tbody>\n",
       "  </tbody>\n",
       "</table>\n",
       "</div>"
      ],
      "text/plain": [
       "Empty DataFrame\n",
       "Columns: [tweet_id, in_reply_to_status_id, in_reply_to_user_id, timestamp, source, text, retweeted_status_id, retweeted_status_user_id, retweeted_status_timestamp, expanded_urls, rating_numerator, rating_denominator, name, doggo, category]\n",
       "Index: []"
      ]
     },
     "execution_count": 55,
     "metadata": {},
     "output_type": "execute_result"
    }
   ],
   "source": [
    "twitter_archive_clean[twitter_archive_clean[\"tweet_id\"].duplicated()]"
   ]
  },
  {
   "cell_type": "markdown",
   "metadata": {},
   "source": [
    "### Issue #10: The tweet_json and twitter_archive shouldn't be in seperate tables"
   ]
  },
  {
   "cell_type": "markdown",
   "metadata": {},
   "source": [
    "#### Define: Merge the 2 dataframes on tweet_id"
   ]
  },
  {
   "cell_type": "markdown",
   "metadata": {},
   "source": [
    "#### Code"
   ]
  },
  {
   "cell_type": "code",
   "execution_count": 56,
   "metadata": {},
   "outputs": [
    {
     "data": {
      "text/plain": [
       "array(['tweet_id', 'in_reply_to_status_id', 'in_reply_to_user_id',\n",
       "       'timestamp', 'source', 'text', 'retweeted_status_id',\n",
       "       'retweeted_status_user_id', 'retweeted_status_timestamp',\n",
       "       'expanded_urls', 'rating_numerator', 'rating_denominator', 'name',\n",
       "       'doggo', 'category'], dtype=object)"
      ]
     },
     "execution_count": 56,
     "metadata": {},
     "output_type": "execute_result"
    }
   ],
   "source": [
    "twitter_archive_clean.columns.values"
   ]
  },
  {
   "cell_type": "code",
   "execution_count": 57,
   "metadata": {},
   "outputs": [],
   "source": [
    "#drop rows repeated in twitter_archive_clean except tweet_id\n",
    "drop_columns = []\n",
    "for column in twitter_archive_clean.columns.values:\n",
    "    if column in tweet_json_clean.columns.values:\n",
    "        drop_columns.append(column)\n",
    "        \n",
    "twitter_archive_clean.drop(drop_columns, axis = 1, inplace = True)"
   ]
  },
  {
   "cell_type": "code",
   "execution_count": 58,
   "metadata": {},
   "outputs": [
    {
     "data": {
      "text/html": [
       "<div>\n",
       "<style scoped>\n",
       "    .dataframe tbody tr th:only-of-type {\n",
       "        vertical-align: middle;\n",
       "    }\n",
       "\n",
       "    .dataframe tbody tr th {\n",
       "        vertical-align: top;\n",
       "    }\n",
       "\n",
       "    .dataframe thead th {\n",
       "        text-align: right;\n",
       "    }\n",
       "</style>\n",
       "<table border=\"1\" class=\"dataframe\">\n",
       "  <thead>\n",
       "    <tr style=\"text-align: right;\">\n",
       "      <th></th>\n",
       "      <th>tweet_id</th>\n",
       "      <th>in_reply_to_status_id</th>\n",
       "      <th>in_reply_to_user_id</th>\n",
       "      <th>retweet_count</th>\n",
       "      <th>favorite_count</th>\n",
       "      <th>retweeted_status</th>\n",
       "      <th>quoted_status</th>\n",
       "    </tr>\n",
       "  </thead>\n",
       "  <tbody>\n",
       "    <tr>\n",
       "      <th>0</th>\n",
       "      <td>892420643555336193</td>\n",
       "      <td>NaN</td>\n",
       "      <td>NaN</td>\n",
       "      <td>8853</td>\n",
       "      <td>39467</td>\n",
       "      <td>NaN</td>\n",
       "      <td>NaN</td>\n",
       "    </tr>\n",
       "    <tr>\n",
       "      <th>1</th>\n",
       "      <td>892177421306343426</td>\n",
       "      <td>NaN</td>\n",
       "      <td>NaN</td>\n",
       "      <td>6514</td>\n",
       "      <td>33819</td>\n",
       "      <td>NaN</td>\n",
       "      <td>NaN</td>\n",
       "    </tr>\n",
       "    <tr>\n",
       "      <th>2</th>\n",
       "      <td>891815181378084864</td>\n",
       "      <td>NaN</td>\n",
       "      <td>NaN</td>\n",
       "      <td>4328</td>\n",
       "      <td>25461</td>\n",
       "      <td>NaN</td>\n",
       "      <td>NaN</td>\n",
       "    </tr>\n",
       "    <tr>\n",
       "      <th>3</th>\n",
       "      <td>891689557279858688</td>\n",
       "      <td>NaN</td>\n",
       "      <td>NaN</td>\n",
       "      <td>8964</td>\n",
       "      <td>42908</td>\n",
       "      <td>NaN</td>\n",
       "      <td>NaN</td>\n",
       "    </tr>\n",
       "    <tr>\n",
       "      <th>4</th>\n",
       "      <td>891327558926688256</td>\n",
       "      <td>NaN</td>\n",
       "      <td>NaN</td>\n",
       "      <td>9774</td>\n",
       "      <td>41048</td>\n",
       "      <td>NaN</td>\n",
       "      <td>NaN</td>\n",
       "    </tr>\n",
       "  </tbody>\n",
       "</table>\n",
       "</div>"
      ],
      "text/plain": [
       "             tweet_id  in_reply_to_status_id  in_reply_to_user_id  \\\n",
       "0  892420643555336193                    NaN                  NaN   \n",
       "1  892177421306343426                    NaN                  NaN   \n",
       "2  891815181378084864                    NaN                  NaN   \n",
       "3  891689557279858688                    NaN                  NaN   \n",
       "4  891327558926688256                    NaN                  NaN   \n",
       "\n",
       "   retweet_count  favorite_count retweeted_status quoted_status  \n",
       "0           8853           39467              NaN           NaN  \n",
       "1           6514           33819              NaN           NaN  \n",
       "2           4328           25461              NaN           NaN  \n",
       "3           8964           42908              NaN           NaN  \n",
       "4           9774           41048              NaN           NaN  "
      ]
     },
     "execution_count": 58,
     "metadata": {},
     "output_type": "execute_result"
    }
   ],
   "source": [
    "#change name of \"id\" in tweet_json_clean to \"tweet_id\"\n",
    "tweet_json_clean = tweet_json_clean.rename(columns = {\"id\": \"tweet_id\"})\n",
    "tweet_json_clean.head()"
   ]
  },
  {
   "cell_type": "code",
   "execution_count": 59,
   "metadata": {},
   "outputs": [],
   "source": [
    "merged_twitter = twitter_archive_clean.merge(tweet_json_clean, how = \"outer\", on = \"tweet_id\")"
   ]
  },
  {
   "cell_type": "markdown",
   "metadata": {},
   "source": [
    "#### Test"
   ]
  },
  {
   "cell_type": "code",
   "execution_count": 60,
   "metadata": {},
   "outputs": [
    {
     "name": "stdout",
     "output_type": "stream",
     "text": [
      "<class 'pandas.core.frame.DataFrame'>\n",
      "RangeIndex: 2069 entries, 0 to 2068\n",
      "Data columns (total 19 columns):\n",
      " #   Column                      Non-Null Count  Dtype              \n",
      "---  ------                      --------------  -----              \n",
      " 0   tweet_id                    2069 non-null   int64              \n",
      " 1   timestamp                   2069 non-null   datetime64[ns, UTC]\n",
      " 2   source                      2069 non-null   object             \n",
      " 3   text                        2069 non-null   object             \n",
      " 4   retweeted_status_id         0 non-null      float64            \n",
      " 5   retweeted_status_user_id    0 non-null      float64            \n",
      " 6   retweeted_status_timestamp  0 non-null      object             \n",
      " 7   expanded_urls               2066 non-null   object             \n",
      " 8   rating_numerator            2069 non-null   int64              \n",
      " 9   rating_denominator          2069 non-null   int64              \n",
      " 10  name                        1493 non-null   object             \n",
      " 11  doggo                       2069 non-null   bool               \n",
      " 12  category                    2069 non-null   object             \n",
      " 13  in_reply_to_status_id       0 non-null      float64            \n",
      " 14  in_reply_to_user_id         0 non-null      float64            \n",
      " 15  retweet_count               2069 non-null   int64              \n",
      " 16  favorite_count              2069 non-null   int64              \n",
      " 17  retweeted_status            0 non-null      object             \n",
      " 18  quoted_status               0 non-null      object             \n",
      "dtypes: bool(1), datetime64[ns, UTC](1), float64(4), int64(5), object(8)\n",
      "memory usage: 293.1+ KB\n"
     ]
    }
   ],
   "source": [
    "merged_twitter.info()"
   ]
  },
  {
   "cell_type": "code",
   "execution_count": 61,
   "metadata": {},
   "outputs": [
    {
     "data": {
      "text/html": [
       "<div>\n",
       "<style scoped>\n",
       "    .dataframe tbody tr th:only-of-type {\n",
       "        vertical-align: middle;\n",
       "    }\n",
       "\n",
       "    .dataframe tbody tr th {\n",
       "        vertical-align: top;\n",
       "    }\n",
       "\n",
       "    .dataframe thead th {\n",
       "        text-align: right;\n",
       "    }\n",
       "</style>\n",
       "<table border=\"1\" class=\"dataframe\">\n",
       "  <thead>\n",
       "    <tr style=\"text-align: right;\">\n",
       "      <th></th>\n",
       "      <th>tweet_id</th>\n",
       "      <th>timestamp</th>\n",
       "      <th>source</th>\n",
       "      <th>text</th>\n",
       "      <th>retweeted_status_id</th>\n",
       "      <th>retweeted_status_user_id</th>\n",
       "      <th>retweeted_status_timestamp</th>\n",
       "      <th>expanded_urls</th>\n",
       "      <th>rating_numerator</th>\n",
       "      <th>rating_denominator</th>\n",
       "      <th>name</th>\n",
       "      <th>doggo</th>\n",
       "      <th>category</th>\n",
       "      <th>in_reply_to_status_id</th>\n",
       "      <th>in_reply_to_user_id</th>\n",
       "      <th>retweet_count</th>\n",
       "      <th>favorite_count</th>\n",
       "      <th>retweeted_status</th>\n",
       "      <th>quoted_status</th>\n",
       "    </tr>\n",
       "  </thead>\n",
       "  <tbody>\n",
       "    <tr>\n",
       "      <th>0</th>\n",
       "      <td>666020888022790149</td>\n",
       "      <td>2015-11-15 22:32:08+00:00</td>\n",
       "      <td>Twitter for iPhone</td>\n",
       "      <td>Here we have a Japanese Irish Setter. Lost eye...</td>\n",
       "      <td>NaN</td>\n",
       "      <td>NaN</td>\n",
       "      <td>NaN</td>\n",
       "      <td>https://twitter.com/dog_rates/status/666020888...</td>\n",
       "      <td>8</td>\n",
       "      <td>10</td>\n",
       "      <td>NaN</td>\n",
       "      <td>True</td>\n",
       "      <td>doggo</td>\n",
       "      <td>NaN</td>\n",
       "      <td>NaN</td>\n",
       "      <td>532</td>\n",
       "      <td>2535</td>\n",
       "      <td>NaN</td>\n",
       "      <td>NaN</td>\n",
       "    </tr>\n",
       "    <tr>\n",
       "      <th>1</th>\n",
       "      <td>666029285002620928</td>\n",
       "      <td>2015-11-15 23:05:30+00:00</td>\n",
       "      <td>Twitter for iPhone</td>\n",
       "      <td>This is a western brown Mitsubishi terrier. Up...</td>\n",
       "      <td>NaN</td>\n",
       "      <td>NaN</td>\n",
       "      <td>NaN</td>\n",
       "      <td>https://twitter.com/dog_rates/status/666029285...</td>\n",
       "      <td>7</td>\n",
       "      <td>10</td>\n",
       "      <td>a</td>\n",
       "      <td>True</td>\n",
       "      <td>doggo</td>\n",
       "      <td>NaN</td>\n",
       "      <td>NaN</td>\n",
       "      <td>48</td>\n",
       "      <td>132</td>\n",
       "      <td>NaN</td>\n",
       "      <td>NaN</td>\n",
       "    </tr>\n",
       "    <tr>\n",
       "      <th>2</th>\n",
       "      <td>666033412701032449</td>\n",
       "      <td>2015-11-15 23:21:54+00:00</td>\n",
       "      <td>Twitter for iPhone</td>\n",
       "      <td>Here is a very happy pup. Big fan of well-main...</td>\n",
       "      <td>NaN</td>\n",
       "      <td>NaN</td>\n",
       "      <td>NaN</td>\n",
       "      <td>https://twitter.com/dog_rates/status/666033412...</td>\n",
       "      <td>9</td>\n",
       "      <td>10</td>\n",
       "      <td>a</td>\n",
       "      <td>True</td>\n",
       "      <td>doggo</td>\n",
       "      <td>NaN</td>\n",
       "      <td>NaN</td>\n",
       "      <td>47</td>\n",
       "      <td>128</td>\n",
       "      <td>NaN</td>\n",
       "      <td>NaN</td>\n",
       "    </tr>\n",
       "    <tr>\n",
       "      <th>3</th>\n",
       "      <td>666044226329800704</td>\n",
       "      <td>2015-11-16 00:04:52+00:00</td>\n",
       "      <td>Twitter for iPhone</td>\n",
       "      <td>This is a purebred Piers Morgan. Loves to Netf...</td>\n",
       "      <td>NaN</td>\n",
       "      <td>NaN</td>\n",
       "      <td>NaN</td>\n",
       "      <td>https://twitter.com/dog_rates/status/666044226...</td>\n",
       "      <td>6</td>\n",
       "      <td>10</td>\n",
       "      <td>a</td>\n",
       "      <td>True</td>\n",
       "      <td>doggo</td>\n",
       "      <td>NaN</td>\n",
       "      <td>NaN</td>\n",
       "      <td>147</td>\n",
       "      <td>311</td>\n",
       "      <td>NaN</td>\n",
       "      <td>NaN</td>\n",
       "    </tr>\n",
       "    <tr>\n",
       "      <th>4</th>\n",
       "      <td>666049248165822465</td>\n",
       "      <td>2015-11-16 00:24:50+00:00</td>\n",
       "      <td>Twitter for iPhone</td>\n",
       "      <td>Here we have a 1949 1st generation vulpix. Enj...</td>\n",
       "      <td>NaN</td>\n",
       "      <td>NaN</td>\n",
       "      <td>NaN</td>\n",
       "      <td>https://twitter.com/dog_rates/status/666049248...</td>\n",
       "      <td>5</td>\n",
       "      <td>10</td>\n",
       "      <td>NaN</td>\n",
       "      <td>False</td>\n",
       "      <td>pupper</td>\n",
       "      <td>NaN</td>\n",
       "      <td>NaN</td>\n",
       "      <td>41</td>\n",
       "      <td>111</td>\n",
       "      <td>NaN</td>\n",
       "      <td>NaN</td>\n",
       "    </tr>\n",
       "  </tbody>\n",
       "</table>\n",
       "</div>"
      ],
      "text/plain": [
       "             tweet_id                 timestamp              source  \\\n",
       "0  666020888022790149 2015-11-15 22:32:08+00:00  Twitter for iPhone   \n",
       "1  666029285002620928 2015-11-15 23:05:30+00:00  Twitter for iPhone   \n",
       "2  666033412701032449 2015-11-15 23:21:54+00:00  Twitter for iPhone   \n",
       "3  666044226329800704 2015-11-16 00:04:52+00:00  Twitter for iPhone   \n",
       "4  666049248165822465 2015-11-16 00:24:50+00:00  Twitter for iPhone   \n",
       "\n",
       "                                                text  retweeted_status_id  \\\n",
       "0  Here we have a Japanese Irish Setter. Lost eye...                  NaN   \n",
       "1  This is a western brown Mitsubishi terrier. Up...                  NaN   \n",
       "2  Here is a very happy pup. Big fan of well-main...                  NaN   \n",
       "3  This is a purebred Piers Morgan. Loves to Netf...                  NaN   \n",
       "4  Here we have a 1949 1st generation vulpix. Enj...                  NaN   \n",
       "\n",
       "   retweeted_status_user_id retweeted_status_timestamp  \\\n",
       "0                       NaN                        NaN   \n",
       "1                       NaN                        NaN   \n",
       "2                       NaN                        NaN   \n",
       "3                       NaN                        NaN   \n",
       "4                       NaN                        NaN   \n",
       "\n",
       "                                       expanded_urls  rating_numerator  \\\n",
       "0  https://twitter.com/dog_rates/status/666020888...                 8   \n",
       "1  https://twitter.com/dog_rates/status/666029285...                 7   \n",
       "2  https://twitter.com/dog_rates/status/666033412...                 9   \n",
       "3  https://twitter.com/dog_rates/status/666044226...                 6   \n",
       "4  https://twitter.com/dog_rates/status/666049248...                 5   \n",
       "\n",
       "   rating_denominator name  doggo category  in_reply_to_status_id  \\\n",
       "0                  10  NaN   True    doggo                    NaN   \n",
       "1                  10    a   True    doggo                    NaN   \n",
       "2                  10    a   True    doggo                    NaN   \n",
       "3                  10    a   True    doggo                    NaN   \n",
       "4                  10  NaN  False   pupper                    NaN   \n",
       "\n",
       "   in_reply_to_user_id  retweet_count  favorite_count retweeted_status  \\\n",
       "0                  NaN            532            2535              NaN   \n",
       "1                  NaN             48             132              NaN   \n",
       "2                  NaN             47             128              NaN   \n",
       "3                  NaN            147             311              NaN   \n",
       "4                  NaN             41             111              NaN   \n",
       "\n",
       "  quoted_status  \n",
       "0           NaN  \n",
       "1           NaN  \n",
       "2           NaN  \n",
       "3           NaN  \n",
       "4           NaN  "
      ]
     },
     "execution_count": 61,
     "metadata": {},
     "output_type": "execute_result"
    }
   ],
   "source": [
    "pd.set_option('display.max_columns', None)\n",
    "merged_twitter.head()"
   ]
  },
  {
   "cell_type": "markdown",
   "metadata": {},
   "source": [
    "## Storing Data\n",
    "Save gathered, assessed, and cleaned master dataset to a CSV file named \"twitter_archive_master.csv\"."
   ]
  },
  {
   "cell_type": "code",
   "execution_count": 62,
   "metadata": {},
   "outputs": [],
   "source": [
    "master_dataset = merged_twitter.merge(image_predictions_clean, how = \"outer\", on = \"tweet_id\")\n",
    "master_dataset.to_csv(\"master_dataset.csv\", index = False)"
   ]
  },
  {
   "cell_type": "code",
   "execution_count": 63,
   "metadata": {},
   "outputs": [],
   "source": [
    "#Drop columns that aren't useful\n",
    "to_drop = []\n",
    "for column in master_dataset.columns:\n",
    "    if master_dataset[column].isna().all():\n",
    "        to_drop.append(column)\n",
    "master_dataset.drop(to_drop, axis = 1, inplace = True)"
   ]
  },
  {
   "cell_type": "code",
   "execution_count": 64,
   "metadata": {},
   "outputs": [
    {
     "name": "stdout",
     "output_type": "stream",
     "text": [
      "<class 'pandas.core.frame.DataFrame'>\n",
      "RangeIndex: 2069 entries, 0 to 2068\n",
      "Data columns (total 23 columns):\n",
      " #   Column              Non-Null Count  Dtype              \n",
      "---  ------              --------------  -----              \n",
      " 0   tweet_id            2069 non-null   int64              \n",
      " 1   timestamp           2069 non-null   datetime64[ns, UTC]\n",
      " 2   source              2069 non-null   object             \n",
      " 3   text                2069 non-null   object             \n",
      " 4   expanded_urls       2066 non-null   object             \n",
      " 5   rating_numerator    2069 non-null   int64              \n",
      " 6   rating_denominator  2069 non-null   int64              \n",
      " 7   name                1493 non-null   object             \n",
      " 8   doggo               2069 non-null   bool               \n",
      " 9   category            2069 non-null   object             \n",
      " 10  retweet_count       2069 non-null   int64              \n",
      " 11  favorite_count      2069 non-null   int64              \n",
      " 12  jpg_url             1971 non-null   object             \n",
      " 13  img_num             1971 non-null   float64            \n",
      " 14  p1                  1971 non-null   object             \n",
      " 15  p1_conf             1971 non-null   float64            \n",
      " 16  p1_dog              1971 non-null   object             \n",
      " 17  p2                  1971 non-null   object             \n",
      " 18  p2_conf             1971 non-null   float64            \n",
      " 19  p2_dog              1971 non-null   object             \n",
      " 20  p3                  1971 non-null   object             \n",
      " 21  p3_conf             1971 non-null   float64            \n",
      " 22  p3_dog              1971 non-null   object             \n",
      "dtypes: bool(1), datetime64[ns, UTC](1), float64(4), int64(5), object(12)\n",
      "memory usage: 357.8+ KB\n"
     ]
    }
   ],
   "source": [
    "master_dataset.info()"
   ]
  },
  {
   "cell_type": "code",
   "execution_count": 65,
   "metadata": {},
   "outputs": [
    {
     "data": {
      "text/html": [
       "<div>\n",
       "<style scoped>\n",
       "    .dataframe tbody tr th:only-of-type {\n",
       "        vertical-align: middle;\n",
       "    }\n",
       "\n",
       "    .dataframe tbody tr th {\n",
       "        vertical-align: top;\n",
       "    }\n",
       "\n",
       "    .dataframe thead th {\n",
       "        text-align: right;\n",
       "    }\n",
       "</style>\n",
       "<table border=\"1\" class=\"dataframe\">\n",
       "  <thead>\n",
       "    <tr style=\"text-align: right;\">\n",
       "      <th></th>\n",
       "      <th>tweet_id</th>\n",
       "      <th>timestamp</th>\n",
       "      <th>source</th>\n",
       "      <th>text</th>\n",
       "      <th>expanded_urls</th>\n",
       "      <th>rating_numerator</th>\n",
       "      <th>rating_denominator</th>\n",
       "      <th>name</th>\n",
       "      <th>doggo</th>\n",
       "      <th>category</th>\n",
       "      <th>retweet_count</th>\n",
       "      <th>favorite_count</th>\n",
       "      <th>jpg_url</th>\n",
       "      <th>img_num</th>\n",
       "      <th>p1</th>\n",
       "      <th>p1_conf</th>\n",
       "      <th>p1_dog</th>\n",
       "      <th>p2</th>\n",
       "      <th>p2_conf</th>\n",
       "      <th>p2_dog</th>\n",
       "      <th>p3</th>\n",
       "      <th>p3_conf</th>\n",
       "      <th>p3_dog</th>\n",
       "    </tr>\n",
       "  </thead>\n",
       "  <tbody>\n",
       "    <tr>\n",
       "      <th>0</th>\n",
       "      <td>666020888022790149</td>\n",
       "      <td>2015-11-15 22:32:08+00:00</td>\n",
       "      <td>Twitter for iPhone</td>\n",
       "      <td>Here we have a Japanese Irish Setter. Lost eye...</td>\n",
       "      <td>https://twitter.com/dog_rates/status/666020888...</td>\n",
       "      <td>8</td>\n",
       "      <td>10</td>\n",
       "      <td>NaN</td>\n",
       "      <td>True</td>\n",
       "      <td>doggo</td>\n",
       "      <td>532</td>\n",
       "      <td>2535</td>\n",
       "      <td>https://pbs.twimg.com/media/CT4udn0WwAA0aMy.jpg</td>\n",
       "      <td>1.0</td>\n",
       "      <td>Welsh Springer Spaniel</td>\n",
       "      <td>0.465074</td>\n",
       "      <td>True</td>\n",
       "      <td>Collie</td>\n",
       "      <td>0.156665</td>\n",
       "      <td>True</td>\n",
       "      <td>Shetland Sheepdog</td>\n",
       "      <td>0.061428</td>\n",
       "      <td>True</td>\n",
       "    </tr>\n",
       "    <tr>\n",
       "      <th>1</th>\n",
       "      <td>666029285002620928</td>\n",
       "      <td>2015-11-15 23:05:30+00:00</td>\n",
       "      <td>Twitter for iPhone</td>\n",
       "      <td>This is a western brown Mitsubishi terrier. Up...</td>\n",
       "      <td>https://twitter.com/dog_rates/status/666029285...</td>\n",
       "      <td>7</td>\n",
       "      <td>10</td>\n",
       "      <td>a</td>\n",
       "      <td>True</td>\n",
       "      <td>doggo</td>\n",
       "      <td>48</td>\n",
       "      <td>132</td>\n",
       "      <td>https://pbs.twimg.com/media/CT42GRgUYAA5iDo.jpg</td>\n",
       "      <td>1.0</td>\n",
       "      <td>Redbone</td>\n",
       "      <td>0.506826</td>\n",
       "      <td>True</td>\n",
       "      <td>Miniature Pinscher</td>\n",
       "      <td>0.074192</td>\n",
       "      <td>True</td>\n",
       "      <td>Rhodesian Ridgeback</td>\n",
       "      <td>0.072010</td>\n",
       "      <td>True</td>\n",
       "    </tr>\n",
       "    <tr>\n",
       "      <th>2</th>\n",
       "      <td>666033412701032449</td>\n",
       "      <td>2015-11-15 23:21:54+00:00</td>\n",
       "      <td>Twitter for iPhone</td>\n",
       "      <td>Here is a very happy pup. Big fan of well-main...</td>\n",
       "      <td>https://twitter.com/dog_rates/status/666033412...</td>\n",
       "      <td>9</td>\n",
       "      <td>10</td>\n",
       "      <td>a</td>\n",
       "      <td>True</td>\n",
       "      <td>doggo</td>\n",
       "      <td>47</td>\n",
       "      <td>128</td>\n",
       "      <td>https://pbs.twimg.com/media/CT4521TWwAEvMyu.jpg</td>\n",
       "      <td>1.0</td>\n",
       "      <td>German Shepherd</td>\n",
       "      <td>0.596461</td>\n",
       "      <td>True</td>\n",
       "      <td>Malinois</td>\n",
       "      <td>0.138584</td>\n",
       "      <td>True</td>\n",
       "      <td>Bloodhound</td>\n",
       "      <td>0.116197</td>\n",
       "      <td>True</td>\n",
       "    </tr>\n",
       "    <tr>\n",
       "      <th>3</th>\n",
       "      <td>666044226329800704</td>\n",
       "      <td>2015-11-16 00:04:52+00:00</td>\n",
       "      <td>Twitter for iPhone</td>\n",
       "      <td>This is a purebred Piers Morgan. Loves to Netf...</td>\n",
       "      <td>https://twitter.com/dog_rates/status/666044226...</td>\n",
       "      <td>6</td>\n",
       "      <td>10</td>\n",
       "      <td>a</td>\n",
       "      <td>True</td>\n",
       "      <td>doggo</td>\n",
       "      <td>147</td>\n",
       "      <td>311</td>\n",
       "      <td>https://pbs.twimg.com/media/CT5Dr8HUEAA-lEu.jpg</td>\n",
       "      <td>1.0</td>\n",
       "      <td>Rhodesian Ridgeback</td>\n",
       "      <td>0.408143</td>\n",
       "      <td>True</td>\n",
       "      <td>Redbone</td>\n",
       "      <td>0.360687</td>\n",
       "      <td>True</td>\n",
       "      <td>Miniature Pinscher</td>\n",
       "      <td>0.222752</td>\n",
       "      <td>True</td>\n",
       "    </tr>\n",
       "    <tr>\n",
       "      <th>4</th>\n",
       "      <td>666049248165822465</td>\n",
       "      <td>2015-11-16 00:24:50+00:00</td>\n",
       "      <td>Twitter for iPhone</td>\n",
       "      <td>Here we have a 1949 1st generation vulpix. Enj...</td>\n",
       "      <td>https://twitter.com/dog_rates/status/666049248...</td>\n",
       "      <td>5</td>\n",
       "      <td>10</td>\n",
       "      <td>NaN</td>\n",
       "      <td>False</td>\n",
       "      <td>pupper</td>\n",
       "      <td>41</td>\n",
       "      <td>111</td>\n",
       "      <td>https://pbs.twimg.com/media/CT5IQmsXIAAKY4A.jpg</td>\n",
       "      <td>1.0</td>\n",
       "      <td>Miniature Pinscher</td>\n",
       "      <td>0.560311</td>\n",
       "      <td>True</td>\n",
       "      <td>Rottweiler</td>\n",
       "      <td>0.243682</td>\n",
       "      <td>True</td>\n",
       "      <td>Doberman</td>\n",
       "      <td>0.154629</td>\n",
       "      <td>True</td>\n",
       "    </tr>\n",
       "  </tbody>\n",
       "</table>\n",
       "</div>"
      ],
      "text/plain": [
       "             tweet_id                 timestamp              source  \\\n",
       "0  666020888022790149 2015-11-15 22:32:08+00:00  Twitter for iPhone   \n",
       "1  666029285002620928 2015-11-15 23:05:30+00:00  Twitter for iPhone   \n",
       "2  666033412701032449 2015-11-15 23:21:54+00:00  Twitter for iPhone   \n",
       "3  666044226329800704 2015-11-16 00:04:52+00:00  Twitter for iPhone   \n",
       "4  666049248165822465 2015-11-16 00:24:50+00:00  Twitter for iPhone   \n",
       "\n",
       "                                                text  \\\n",
       "0  Here we have a Japanese Irish Setter. Lost eye...   \n",
       "1  This is a western brown Mitsubishi terrier. Up...   \n",
       "2  Here is a very happy pup. Big fan of well-main...   \n",
       "3  This is a purebred Piers Morgan. Loves to Netf...   \n",
       "4  Here we have a 1949 1st generation vulpix. Enj...   \n",
       "\n",
       "                                       expanded_urls  rating_numerator  \\\n",
       "0  https://twitter.com/dog_rates/status/666020888...                 8   \n",
       "1  https://twitter.com/dog_rates/status/666029285...                 7   \n",
       "2  https://twitter.com/dog_rates/status/666033412...                 9   \n",
       "3  https://twitter.com/dog_rates/status/666044226...                 6   \n",
       "4  https://twitter.com/dog_rates/status/666049248...                 5   \n",
       "\n",
       "   rating_denominator name  doggo category  retweet_count  favorite_count  \\\n",
       "0                  10  NaN   True    doggo            532            2535   \n",
       "1                  10    a   True    doggo             48             132   \n",
       "2                  10    a   True    doggo             47             128   \n",
       "3                  10    a   True    doggo            147             311   \n",
       "4                  10  NaN  False   pupper             41             111   \n",
       "\n",
       "                                           jpg_url  img_num  \\\n",
       "0  https://pbs.twimg.com/media/CT4udn0WwAA0aMy.jpg      1.0   \n",
       "1  https://pbs.twimg.com/media/CT42GRgUYAA5iDo.jpg      1.0   \n",
       "2  https://pbs.twimg.com/media/CT4521TWwAEvMyu.jpg      1.0   \n",
       "3  https://pbs.twimg.com/media/CT5Dr8HUEAA-lEu.jpg      1.0   \n",
       "4  https://pbs.twimg.com/media/CT5IQmsXIAAKY4A.jpg      1.0   \n",
       "\n",
       "                       p1   p1_conf p1_dog                  p2   p2_conf  \\\n",
       "0  Welsh Springer Spaniel  0.465074   True              Collie  0.156665   \n",
       "1                 Redbone  0.506826   True  Miniature Pinscher  0.074192   \n",
       "2         German Shepherd  0.596461   True            Malinois  0.138584   \n",
       "3     Rhodesian Ridgeback  0.408143   True             Redbone  0.360687   \n",
       "4      Miniature Pinscher  0.560311   True          Rottweiler  0.243682   \n",
       "\n",
       "  p2_dog                   p3   p3_conf p3_dog  \n",
       "0   True    Shetland Sheepdog  0.061428   True  \n",
       "1   True  Rhodesian Ridgeback  0.072010   True  \n",
       "2   True           Bloodhound  0.116197   True  \n",
       "3   True   Miniature Pinscher  0.222752   True  \n",
       "4   True             Doberman  0.154629   True  "
      ]
     },
     "execution_count": 65,
     "metadata": {},
     "output_type": "execute_result"
    }
   ],
   "source": [
    "master_dataset.head()"
   ]
  },
  {
   "cell_type": "markdown",
   "metadata": {},
   "source": [
    "## Analyzing and Visualizing Data\n",
    "In this section, analyze and visualize your wrangled data. You must produce at least **three (3) insights and one (1) visualization.**"
   ]
  },
  {
   "cell_type": "markdown",
   "metadata": {},
   "source": [
    "### Insight #1: The best month for tweets"
   ]
  },
  {
   "cell_type": "code",
   "execution_count": 66,
   "metadata": {},
   "outputs": [],
   "source": [
    "master_dataset[\"month\"] = master_dataset[\"timestamp\"].dt.month"
   ]
  },
  {
   "cell_type": "code",
   "execution_count": 67,
   "metadata": {},
   "outputs": [
    {
     "name": "stdout",
     "output_type": "stream",
     "text": [
      "June (6) has the highest average favorites (15981)\n"
     ]
    },
    {
     "data": {
      "image/png": "[encoded data removed]",
      "text/plain": [
       "<Figure size 640x480 with 1 Axes>"
      ]
     },
     "metadata": {},
     "output_type": "display_data"
    }
   ],
   "source": [
    "month_favorite_average = master_dataset.groupby(\"month\")[\"favorite_count\"].mean()\n",
    "month_favorite_average.plot(kind = \"bar\");\n",
    "plt.xlabel(\"Month\", fontdict={\"fontsize\": 15})\n",
    "plt.ylabel(\"Favorites Count\", fontdict={\"fontsize\": 15})\n",
    "print(f\"June (6) has the highest average favorites ({math.ceil(sorted(month_favorite_average)[-1])})\")"
   ]
  },
  {
   "cell_type": "code",
   "execution_count": 68,
   "metadata": {},
   "outputs": [
    {
     "name": "stdout",
     "output_type": "stream",
     "text": [
      "June has the highest average retweets (4972)\n"
     ]
    },
    {
     "data": {
      "image/png": "[encoded data removed]",
      "text/plain": [
       "<Figure size 640x480 with 1 Axes>"
      ]
     },
     "metadata": {},
     "output_type": "display_data"
    }
   ],
   "source": [
    "month_retweet_average = master_dataset.groupby(\"month\")[\"retweet_count\"].mean()\n",
    "month_retweet_average.plot(kind = \"bar\");\n",
    "plt.xlabel(\"Month\", fontdict={\"fontsize\": 15})\n",
    "plt.ylabel(\"Retweets Count\", fontdict={\"fontsize\": 15})\n",
    "print(f\"June has the highest average retweets ({math.ceil(sorted(month_retweet_average)[-1])})\")"
   ]
  },
  {
   "cell_type": "markdown",
   "metadata": {},
   "source": [
    "### Insight #2: The best category for tweets"
   ]
  },
  {
   "cell_type": "code",
   "execution_count": 69,
   "metadata": {},
   "outputs": [
    {
     "name": "stdout",
     "output_type": "stream",
     "text": [
      "Puppies (puppo) has the highest average favorites (22716)\n"
     ]
    },
    {
     "data": {
      "image/png": "[encoded data removed]",
      "text/plain": [
       "<Figure size 700x700 with 1 Axes>"
      ]
     },
     "metadata": {},
     "output_type": "display_data"
    }
   ],
   "source": [
    "category_favorite_average = master_dataset.groupby(\"category\")[\"favorite_count\"].mean()\n",
    "category_favorite_average.plot(kind = \"pie\", figsize = (7, 7), autopct = \"%1.2f%%\");\n",
    "plt.xlabel(\"Category - Favorites Count \", fontdict={\"fontsize\": 20})\n",
    "plt.ylabel(\"\", fontdict={\"fontsize\": 15})\n",
    "print(f\"Puppies (puppo) has the highest average favorites ({math.ceil(sorted(category_favorite_average)[-1])})\")"
   ]
  },
  {
   "cell_type": "code",
   "execution_count": 70,
   "metadata": {
    "scrolled": true
   },
   "outputs": [
    {
     "name": "stdout",
     "output_type": "stream",
     "text": [
      "Puppies (puppo) has the highest average retweets (7125)\n"
     ]
    },
    {
     "data": {
      "image/png": "[encoded data removed]",
      "text/plain": [
       "<Figure size 900x900 with 1 Axes>"
      ]
     },
     "metadata": {},
     "output_type": "display_data"
    }
   ],
   "source": [
    "category_retweet_average = master_dataset.groupby(\"category\")[\"retweet_count\"].mean()\n",
    "category_retweet_average.plot(kind = \"pie\", figsize = (9, 9), autopct = \"%1.2f%%\");\n",
    "plt.xlabel(\"Category - Retweets Count \", fontdict={\"fontsize\": 20})\n",
    "plt.ylabel(\"\", fontdict={\"fontsize\": 15})\n",
    "print(f\"Puppies (puppo) has the highest average retweets ({math.ceil(sorted(category_retweet_average)[-1])})\")"
   ]
  },
  {
   "cell_type": "markdown",
   "metadata": {},
   "source": [
    "### Insight #3: The dog breed with highest average rating"
   ]
  },
  {
   "cell_type": "code",
   "execution_count": 71,
   "metadata": {},
   "outputs": [],
   "source": [
    "master_dataset[\"probable_breed\"] = master_dataset[\"category\"]\n",
    "master_dataset[\"rating_percentage\"] = master_dataset[\"rating_numerator\"] / master_dataset[\"rating_denominator\"] * 100  \n",
    "for index, row in master_dataset.iterrows():\n",
    "    if row[\"p1_dog\"] == True:\n",
    "        master_dataset.loc[index, \"probable_breed\"] = row[\"p1\"]\n",
    "    elif row[\"p2_dog\"] == True:\n",
    "        master_dataset.loc[index, \"probable_breed\"] = row[\"p2\"]\n",
    "    elif row[\"p3_dog\"] == True:\n",
    "        master_dataset.loc[index, \"probable_breed\"] = row[\"p3\"]\n",
    "    else:\n",
    "        continue"
   ]
  },
  {
   "cell_type": "code",
   "execution_count": 72,
   "metadata": {},
   "outputs": [
    {
     "data": {
      "text/plain": [
       "probable_breed\n",
       "Gordon Setter           117.500000\n",
       "Silky Terrier           120.000000\n",
       "Standard Schnauzer      120.000000\n",
       "Border Terrier          121.428571\n",
       "Tibetan Mastiff         122.500000\n",
       "Briard                  123.333333\n",
       "Saluki                  125.000000\n",
       "Pomeranian              125.365854\n",
       "Bouvier Des Flandres    130.000000\n",
       "Clumber                 270.000000\n",
       "Name: rating_percentage, dtype: float64"
      ]
     },
     "execution_count": 72,
     "metadata": {},
     "output_type": "execute_result"
    },
    {
     "data": {
      "image/png": "[encoded data removed]",
      "text/plain": [
       "<Figure size 800x800 with 1 Axes>"
      ]
     },
     "metadata": {},
     "output_type": "display_data"
    }
   ],
   "source": [
    "top_10_ratings_average = master_dataset[(master_dataset[\"probable_breed\"] != \"Not a dog\") &\n",
    "                                       (master_dataset[\"probable_breed\"] != \"puppo\")].groupby(\"probable_breed\")[\"rating_percentage\"].mean().sort_values().tail(10)\n",
    "top_10_ratings_average.plot(kind = \"barh\", figsize = (8, 8))\n",
    "plt.xticks(np.arange(0, 300, 20))\n",
    "plt.xlabel(\"Average Rating Percentage\", fontdict={\"fontsize\": 15})\n",
    "plt.ylabel(\"Dog Breed\", fontdict={\"fontsize\": 15})\n",
    "top_10_ratings_average"
   ]
  },
  {
   "cell_type": "markdown",
   "metadata": {},
   "source": [
    "### Insights:\n",
    "1. The best month for tweets is 6 \"June\" as it has the highest average of retweets_count & favorited_count from all the months across 3 years <br>\n",
    "\n",
    "2. The best category of dogs to tweet are puppies \"puppo\" as they get the highest average of retweet_count & favorite_count\n",
    "\n",
    "3. The breed with the highest average rating percentage is the \"Clumber\" breed. "
   ]
  }
 ],
 "metadata": {
  "extensions": {
   "jupyter_dashboards": {
    "activeView": "report_default",
    "version": 1,
    "views": {
     "grid_default": {
      "cellMargin": 10,
      "defaultCellHeight": 20,
      "maxColumns": 12,
      "name": "grid",
      "type": "grid"
     },
     "report_default": {
      "name": "report",
      "type": "report"
     }
    }
   }
  },
  "kernelspec": {
   "display_name": "Python 3",
   "language": "python",
   "name": "python3"
  },
  "language_info": {
   "codemirror_mode": {
    "name": "ipython",
    "version": 3
   },
   "file_extension": ".py",
   "mimetype": "text/x-python",
   "name": "python",
   "nbconvert_exporter": "python",
   "pygments_lexer": "ipython3",
   "version": "3.12.5"
  }
 },
 "nbformat": 4,
 "nbformat_minor": 2
}
